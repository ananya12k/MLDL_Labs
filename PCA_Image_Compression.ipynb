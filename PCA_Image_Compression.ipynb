{
 "cells": [
  {
   "cell_type": "code",
   "execution_count": 7,
   "id": "cb338b15-d1a5-4998-9b78-db7171ef2d12",
   "metadata": {},
   "outputs": [],
   "source": [
    "import numpy as np\n",
    "import matplotlib.pyplot as plt\n",
    "from sklearn.decomposition import PCA\n",
    "from PIL import Image\n",
    "import os\n",
    "\n"
   ]
  },
  {
   "cell_type": "code",
   "execution_count": 8,
   "id": "7d2b8fe2-65e8-4c41-92ca-e9ecaae9d829",
   "metadata": {},
   "outputs": [],
   "source": [
    "\n",
    "# Function to load the image\n",
    "def load_image(image_path):\n",
    "    img = Image.open(image_path)\n",
    "    img_gray = img.convert('L')  # Convert to grayscale\n",
    "    img_rgb = np.array(img)  # Convert to RGB\n",
    "    img_matrix = np.array(img_gray)  # Convert to grayscale matrix\n",
    "    return img_rgb, img_matrix\n",
    "\n"
   ]
  },
  {
   "cell_type": "code",
   "execution_count": 9,
   "id": "4f9a6564-1cdf-4ed4-8941-589cc541fba6",
   "metadata": {},
   "outputs": [],
   "source": [
    "# EDA on the image\n",
    "def image_eda(image_rgb, image_gray):\n",
    "    # Display original images (RGB and Grayscale)\n",
    "    plt.figure(figsize=(12, 6))\n",
    "\n",
    "    plt.subplot(1, 2, 1)\n",
    "    plt.imshow(image_rgb)\n",
    "    plt.title('Original RGB Image')\n",
    "\n",
    "    plt.subplot(1, 2, 2)\n",
    "    plt.imshow(image_gray, cmap='gray')\n",
    "    plt.title('Grayscale Image')\n",
    "\n",
    "    plt.show()\n"
   ]
  },
  {
   "cell_type": "code",
   "execution_count": 10,
   "id": "6e908657-c5be-45f2-beb1-a10c9e839414",
   "metadata": {},
   "outputs": [],
   "source": [
    "\n",
    "# Function to apply PCA to the grayscale image\n",
    "def apply_pca(image_matrix, num_components):\n",
    "    image_matrix_normalized = image_matrix / 255.0  # Normalize to [0, 1]\n",
    "    pca = PCA(n_components=num_components)\n",
    "    pca_transformed = pca.fit_transform(image_matrix_normalized)\n",
    "    reconstructed = pca.inverse_transform(pca_transformed)\n",
    "    return reconstructed * 255.0  # Scale back to [0, 255]\n"
   ]
  },
  {
   "cell_type": "code",
   "execution_count": 11,
   "id": "4523d7e6-2d51-4749-addc-c93cb35112e4",
   "metadata": {},
   "outputs": [],
   "source": [
    "\n",
    "# Compare different components and show results\n",
    "def compare_components(image_matrix, components_list):\n",
    "    plt.figure(figsize=(12, 6))\n",
    "    for i, num_components in enumerate(components_list):\n",
    "        reconstructed_image = apply_pca(image_matrix, num_components)\n",
    "        plt.subplot(1, len(components_list), i + 1)\n",
    "        plt.imshow(reconstructed_image, cmap='gray')\n",
    "        plt.title(f'{num_components} Components')\n",
    "\n",
    "    plt.show()\n"
   ]
  },
  {
   "cell_type": "code",
   "execution_count": null,
   "id": "12d8264f-f01b-4052-b728-33a554f485b3",
   "metadata": {},
   "outputs": [],
   "source": [
    "\n",
    "# Select optimal components based on visual inspection\n",
    "def select_optimal_components(image_matrix):\n",
    "    components_list = [10, 20, 50, 100, 150]  # List of component numbers to test\n",
    "    compare_components(image_matrix, components_list)\n",
    "    optimal_components = int(input(\"Enter the number of components that best matches the grayscale image: \"))\n",
    "    return optimal_components\n",
    "\n",
    "# Reconstruct the RGB image using compressed grayscale\n",
    "def reconstruct_rgb_image(image_rgb, compressed_gray):\n",
    "    compressed_rgb = np.zeros_like(image_rgb)  # Placeholder for compressed RGB image\n",
    "    for i in range(3):  # For each channel (R, G, B), apply the compressed grayscale\n",
    "        compressed_rgb[:, :, i] = compressed_gray\n",
    "    return compressed_rgb\n",
    "\n",
    "# Main function to execute the process\n",
    "def compress_image(image_path):\n",
    "    # Load the image\n",
    "    image_rgb, image_gray = load_image(image_path)\n",
    "\n",
    "    # Perform EDA\n",
    "    image_eda(image_rgb, image_gray)\n",
    "\n",
    "    # Select optimal number of components based on comparison\n",
    "    optimal_components = select_optimal_components(image_gray)\n",
    "\n",
    "    # Compress the image using optimal components\n",
    "    compressed_gray = apply_pca(image_gray, optimal_components)\n",
    "\n",
    "    # Reconstruct the compressed image in RGB format\n",
    "    compressed_rgb = reconstruct_rgb_image(image_rgb, compressed_gray)\n",
    "\n",
    "    # Display the compressed RGB image\n",
    "    plt.figure(figsize=(6, 6))\n",
    "    plt.imshow(compressed_rgb)\n",
    "    plt.title(f'Compressed RGB Image with {optimal_components} Components')\n",
    "    plt.show()\n",
    "\n",
    "# Set the image path\n",
    "image_path = r'D:\\Documents\\DDU\\DDU Sem 7\\ML_DL\\Labs\\Image.jpeg'\n",
    "\n",
    "# Call the main function to compress and display the image\n",
    "compress_image(image_path)"
   ]
  }
 ],
 "metadata": {
  "kernelspec": {
   "display_name": "Python 3 (ipykernel)",
   "language": "python",
   "name": "python3"
  },
  "language_info": {
   "codemirror_mode": {
    "name": "ipython",
    "version": 3
   },
   "file_extension": ".py",
   "mimetype": "text/x-python",
   "name": "python",
   "nbconvert_exporter": "python",
   "pygments_lexer": "ipython3",
   "version": "3.11.5"
  }
 },
 "nbformat": 4,
 "nbformat_minor": 5
}
