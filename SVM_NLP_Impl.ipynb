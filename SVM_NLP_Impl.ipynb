{
 "cells": [
  {
   "cell_type": "markdown",
   "id": "70197449-2bb8-488f-8efc-c167ef10e094",
   "metadata": {},
   "source": [
    "# NLP basics\n",
    "\n",
    "#### Bag of words-converting each word to number by assigning a unique number to each word.\n",
    "#### Each ML model is designed in such a way that it only processes only numeric data,so it becomes necessary to convert to number\n",
    "#### This conversion is called vectorization, assigns a countvectors based on frequency of the word.\n",
    "\n",
    "##### fit makes vocab ready\n",
    "##### transform -conv to vec\n",
    "##### fit and transform -does both\n",
    "##### now for testing if i have to check then what?----------transform the data, cuz fitting is already done"
   ]
  },
  {
   "cell_type": "code",
   "execution_count": 5,
   "id": "6dfbbaad-9312-45ea-a819-5a23b312802b",
   "metadata": {},
   "outputs": [],
   "source": [
    "import numpy as np\n",
    "import matplotlib.pyplot as plt\n",
    "from sklearn import datasets\n",
    "from sklearn.feature_extraction.text import CountVectorizer\n",
    "from sklearn.model_selection import train_test_split # not needed when we have separate datasets for training and testing\n",
    "from sklearn.preprocessing import StandardScaler # purpose is to do in feature engineering"
   ]
  },
  {
   "cell_type": "code",
   "execution_count": 7,
   "id": "29d3c348-8fbd-4611-9baa-330631a3e114",
   "metadata": {},
   "outputs": [],
   "source": [
    "from sklearn.svm import SVC\n",
    "from sklearn.metrics import accuracy_score, classification_report, precision_score,recall_score,f1_score, confusion_matrix\n"
   ]
  },
  {
   "cell_type": "code",
   "execution_count": 9,
   "id": "43eedbf2-3e4b-442c-9dad-e9ca3283c223",
   "metadata": {},
   "outputs": [],
   "source": [
    "# vectorizer =CountVectorizer()\n",
    "# X=vectorizer.fit_transform(texts)"
   ]
  },
  {
   "cell_type": "code",
   "execution_count": null,
   "id": "02c4e704-0b4f-484c-aed2-5cd5069474d5",
   "metadata": {},
   "outputs": [],
   "source": [
    "# Apply SVM here, no concept of scaling here\n",
    "# BERT -converts to vec too\n",
    "# Word to Vec"
   ]
  }
 ],
 "metadata": {
  "kernelspec": {
   "display_name": "Python 3 (ipykernel)",
   "language": "python",
   "name": "python3"
  },
  "language_info": {
   "codemirror_mode": {
    "name": "ipython",
    "version": 3
   },
   "file_extension": ".py",
   "mimetype": "text/x-python",
   "name": "python",
   "nbconvert_exporter": "python",
   "pygments_lexer": "ipython3",
   "version": "3.11.5"
  }
 },
 "nbformat": 4,
 "nbformat_minor": 5
}
