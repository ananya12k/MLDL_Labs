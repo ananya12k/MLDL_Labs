{
 "cells": [
  {
   "cell_type": "markdown",
   "id": "07e8367e-152c-4d7f-b228-2d8b0e8514e7",
   "metadata": {},
   "source": [
    "## Background for NumPY\n",
    "It is a multidimensional arrays libraries. 1D or 2D or nD.\n",
    "### Why to use NumPy ?\n",
    "Numpy uses fixed types instead of hetereogenous components of list.\n",
    "5--> 101 --> converted to INT 32, you can specify in 2 bytes etc.\n",
    "With lists, it used built-in INT of python which consists of Size, Reference COunt, Object Type and Object Value. So it comes down to 8 bytes. It is higher than numpy.\n",
    "\n",
    "So key takeways:\n",
    "1. Faster to read less bytes of memory\n",
    "2. No type checking\n",
    "3. Has contiguous memory\n",
    "4. List has pointers pointing to data which are scattereed in memory\n",
    "5. Our CPUs have SIMD vector processing units, so in continuous memory we can use it for faster computation\n",
    "6. Effective Cache Unitlization in NumPy\n",
    "7. In NumPy we can do more than lists\n",
    "8. Allows itemwise computation\n",
    "\n",
    "### Applications of NumPy\n",
    "1. Maths (MATLAB replacement)\n",
    "2. Plotting\n",
    "3. Backend of Pandas, Connect 4, Digital Photography(PNG,JPEG)\n",
    "4. Machine Learning -tensors"
   ]
  },
  {
   "cell_type": "code",
   "execution_count": 1,
   "id": "e5840a69-2f8b-4b3d-ab15-362453f140dc",
   "metadata": {},
   "outputs": [],
   "source": [
    "import numpy as np"
   ]
  },
  {
   "cell_type": "markdown",
   "id": "d44e66a2-6097-4a86-8c58-c7137e791d81",
   "metadata": {},
   "source": [
    "## Basics"
   ]
  },
  {
   "cell_type": "code",
   "execution_count": 23,
   "id": "1017d032-09cb-47b4-947b-05175e9de0e2",
   "metadata": {},
   "outputs": [
    {
     "name": "stdout",
     "output_type": "stream",
     "text": [
      "[1 2 3]\n"
     ]
    }
   ],
   "source": [
    "a=np.array([1,2,3],dtype='int16')\n",
    "print(a)"
   ]
  },
  {
   "cell_type": "code",
   "execution_count": 101,
   "id": "7ed06c0e-ad12-461c-94b8-a59c7a92ef0b",
   "metadata": {},
   "outputs": [
    {
     "data": {
      "text/plain": [
       "array([[1, 2, 3, 4],\n",
       "       [3, 4, 5, 6]])"
      ]
     },
     "execution_count": 101,
     "metadata": {},
     "output_type": "execute_result"
    }
   ],
   "source": [
    "b=np.array([[1,2,3,4],[3,4,5,6]])\n",
    "b"
   ]
  },
  {
   "cell_type": "code",
   "execution_count": 103,
   "id": "b7660173-820d-4ea4-937a-b5755228e609",
   "metadata": {},
   "outputs": [
    {
     "data": {
      "text/plain": [
       "array([1., 1.])"
      ]
     },
     "execution_count": 103,
     "metadata": {},
     "output_type": "execute_result"
    }
   ],
   "source": [
    "# Create an empty array with 2 elements\n",
    "np.empty(2) "
   ]
  },
  {
   "cell_type": "code",
   "execution_count": 104,
   "id": "20df8dd0-b051-4621-bb07-818a1c064df6",
   "metadata": {},
   "outputs": [
    {
     "data": {
      "text/plain": [
       "array([0, 1, 2, 3])"
      ]
     },
     "execution_count": 104,
     "metadata": {},
     "output_type": "execute_result"
    }
   ],
   "source": [
    "# You can create an array with a range of elements:\n",
    "np.arange(4)"
   ]
  },
  {
   "cell_type": "code",
   "execution_count": 105,
   "id": "738dfbb2-e0fc-47e7-82d4-ea7318406157",
   "metadata": {},
   "outputs": [
    {
     "data": {
      "text/plain": [
       "array([ 0. ,  2.5,  5. ,  7.5, 10. ])"
      ]
     },
     "execution_count": 105,
     "metadata": {},
     "output_type": "execute_result"
    }
   ],
   "source": [
    "# You can also use np.linspace() to create an array with values that are spaced linearly in a specified interval:\n",
    "np.linspace(0, 10, num=5)"
   ]
  },
  {
   "cell_type": "code",
   "execution_count": 106,
   "id": "63740119-32f7-4fa3-8149-7a663c0a85a5",
   "metadata": {},
   "outputs": [
    {
     "data": {
      "text/plain": [
       "array([[1, 2],\n",
       "       [3, 5]])"
      ]
     },
     "execution_count": 106,
     "metadata": {},
     "output_type": "execute_result"
    }
   ],
   "source": [
    "# You can quickly sort the numbers in ascending order with:\n",
    "np.sort(a)"
   ]
  },
  {
   "cell_type": "code",
   "execution_count": null,
   "id": "265aec80-a601-4151-baa0-84c666ed52fc",
   "metadata": {},
   "outputs": [],
   "source": [
    "x=np.array([[1, 2], [3, 4]])\n",
    "y = np.array([[5, 6]])\n",
    "# You can concatenate them with:\n",
    "\n",
    "np.concatenate((x, y), axis=0)"
   ]
  },
  {
   "cell_type": "markdown",
   "id": "c21dc797-c01d-49ee-ad60-7eda71caebe6",
   "metadata": {},
   "source": [
    "ndarray.ndim will tell you the number of axes, or dimensions, of the array.\r\n",
    "\r\n",
    "ndarray.size will tell you the total number of elements of the array. This is the product of the elements of the array’s shape.\r\n",
    "\r\n",
    "ndarray.shape will display a tuple of integers that indicate the number of elements stored along each dimension of the array. If, for example, you have a 2-D array with 2 rows and 3 columns, the shape of your array is (2, 3)."
   ]
  },
  {
   "cell_type": "code",
   "execution_count": 25,
   "id": "24318a20-00e0-47c9-9893-db7b2de87ba0",
   "metadata": {},
   "outputs": [
    {
     "data": {
      "text/plain": [
       "1"
      ]
     },
     "execution_count": 25,
     "metadata": {},
     "output_type": "execute_result"
    }
   ],
   "source": [
    "# Get the dimension\n",
    "a.ndim"
   ]
  },
  {
   "cell_type": "code",
   "execution_count": 26,
   "id": "eb97c759-b480-4c12-9e96-f3a25fe41d16",
   "metadata": {},
   "outputs": [
    {
     "data": {
      "text/plain": [
       "2"
      ]
     },
     "execution_count": 26,
     "metadata": {},
     "output_type": "execute_result"
    }
   ],
   "source": [
    "b.ndim"
   ]
  },
  {
   "cell_type": "code",
   "execution_count": 27,
   "id": "42e54e75-cc03-447f-bc16-fcfc8eb56cd3",
   "metadata": {},
   "outputs": [
    {
     "data": {
      "text/plain": [
       "(3,)"
      ]
     },
     "execution_count": 27,
     "metadata": {},
     "output_type": "execute_result"
    }
   ],
   "source": [
    "# Get shape\n",
    "a.shape"
   ]
  },
  {
   "cell_type": "code",
   "execution_count": 28,
   "id": "f9f47184-9a87-49e1-a62d-34defacb657b",
   "metadata": {},
   "outputs": [
    {
     "data": {
      "text/plain": [
       "(2, 4)"
      ]
     },
     "execution_count": 28,
     "metadata": {},
     "output_type": "execute_result"
    }
   ],
   "source": [
    "b.shape"
   ]
  },
  {
   "cell_type": "code",
   "execution_count": 29,
   "id": "1a899fa9-69b1-4c2e-b8d7-5062eeaf943c",
   "metadata": {},
   "outputs": [
    {
     "data": {
      "text/plain": [
       "dtype('int16')"
      ]
     },
     "execution_count": 29,
     "metadata": {},
     "output_type": "execute_result"
    }
   ],
   "source": [
    "# Get Type\n",
    "a.dtype"
   ]
  },
  {
   "cell_type": "code",
   "execution_count": 30,
   "id": "3c2b45f4-6281-4821-b3db-e252096dd976",
   "metadata": {},
   "outputs": [
    {
     "data": {
      "text/plain": [
       "dtype('int32')"
      ]
     },
     "execution_count": 30,
     "metadata": {},
     "output_type": "execute_result"
    }
   ],
   "source": [
    "b.dtype"
   ]
  },
  {
   "cell_type": "code",
   "execution_count": 32,
   "id": "de44f334-7943-4872-a91a-30ca3c83695c",
   "metadata": {},
   "outputs": [
    {
     "data": {
      "text/plain": [
       "2"
      ]
     },
     "execution_count": 32,
     "metadata": {},
     "output_type": "execute_result"
    }
   ],
   "source": [
    "# Get size\n",
    "a.itemsize"
   ]
  },
  {
   "cell_type": "code",
   "execution_count": 34,
   "id": "e8ee50d0-85da-4b93-9b29-50ad47fce5e3",
   "metadata": {},
   "outputs": [
    {
     "data": {
      "text/plain": [
       "6"
      ]
     },
     "execution_count": 34,
     "metadata": {},
     "output_type": "execute_result"
    }
   ],
   "source": [
    "#get total size - no of elements\n",
    "# a.size\n",
    "# a.size*a.itemsize\n",
    "a.nbytes"
   ]
  },
  {
   "cell_type": "markdown",
   "id": "7ac0bce0-22e4-4b59-ae50-bb1cb80cfa24",
   "metadata": {},
   "source": [
    "Using arr.reshape() will give a new shape to an array without changing the data. Just remember that when you use the reshape method, the array you want to produce needs to have the same number of elements as the original array. If you start with an array with 12 elements, you’ll need to make sure that your new array also has a total of 12 elements."
   ]
  },
  {
   "cell_type": "code",
   "execution_count": 111,
   "id": "c4545537-8fe2-49d9-9d19-065a8d347169",
   "metadata": {},
   "outputs": [
    {
     "name": "stdout",
     "output_type": "stream",
     "text": [
      "[[1 2]\n",
      " [3 4]\n",
      " [3 4]\n",
      " [5 6]]\n"
     ]
    }
   ],
   "source": [
    "k = b.reshape(4,2)\n",
    "print(k)\n"
   ]
  },
  {
   "cell_type": "markdown",
   "id": "bff6414b-711e-45d1-9107-9b5990eb6966",
   "metadata": {},
   "source": [
    "You can use np.newaxis and np.expand_dims to increase the dimensions of your existing array.\r\n",
    "\r\n",
    "Using np.newaxis will increase the dimensions of your array by one dimension when used once. This means that a 1D array will become a 2D array, a 2D array will become a 3D array, and so on."
   ]
  },
  {
   "cell_type": "code",
   "execution_count": 113,
   "id": "6f63d504-9ea1-4639-8d76-857c01c50f8b",
   "metadata": {},
   "outputs": [
    {
     "data": {
      "text/plain": [
       "(1, 2, 2)"
      ]
     },
     "execution_count": 113,
     "metadata": {},
     "output_type": "execute_result"
    }
   ],
   "source": [
    "a2 = a[np.newaxis, :]\n",
    "a2.shape\n"
   ]
  },
  {
   "cell_type": "code",
   "execution_count": 115,
   "id": "5a9e584a-8d43-41b2-bde9-be3e3654522f",
   "metadata": {},
   "outputs": [
    {
     "data": {
      "text/plain": [
       "array([[[1, 2]],\n",
       "\n",
       "       [[3, 5]]])"
      ]
     },
     "execution_count": 115,
     "metadata": {},
     "output_type": "execute_result"
    }
   ],
   "source": [
    "# You can use np.expand_dims to add an axis at index position 1 with:\n",
    "\n",
    "b = np.expand_dims(a, axis=1)\n",
    "b"
   ]
  },
  {
   "cell_type": "markdown",
   "id": "f5e13875-3294-4d2c-a9fb-8fcba7aa6fa4",
   "metadata": {},
   "source": [
    "You can also stack two existing arrays, both vertically and horizontally. Let’s say you have two arrays, a1 and a2:"
   ]
  },
  {
   "cell_type": "code",
   "execution_count": 116,
   "id": "2926a49c-cbc0-44f1-ae98-d1a96938ed63",
   "metadata": {},
   "outputs": [
    {
     "name": "stdout",
     "output_type": "stream",
     "text": [
      "[[1 1]\n",
      " [2 2]\n",
      " [3 3]\n",
      " [4 4]]\n",
      "[[1 1 3 3]\n",
      " [2 2 4 4]]\n",
      "[array([[ 1,  2,  3,  4],\n",
      "       [13, 14, 15, 16]]), array([[ 5,  6,  7,  8],\n",
      "       [17, 18, 19, 20]]), array([[ 9, 10, 11, 12],\n",
      "       [21, 22, 23, 24]])]\n",
      "[array([[ 1,  2,  3],\n",
      "       [13, 14, 15]]), array([[ 4],\n",
      "       [16]]), array([[ 5,  6,  7,  8,  9, 10, 11, 12],\n",
      "       [17, 18, 19, 20, 21, 22, 23, 24]])]\n"
     ]
    }
   ],
   "source": [
    "\n",
    "a1 = np.array([[1, 1],\n",
    "               [2, 2]])\n",
    "\n",
    "a2 = np.array([[3, 3],\n",
    "               [4, 4]])\n",
    "# You can stack them vertically with vstack:\n",
    "\n",
    "print(np.vstack((a1, a2)))\n",
    "\n",
    "# Or stack them horizontally with hstack:\n",
    "\n",
    "print(np.hstack((a1, a2)))\n"
   ]
  },
  {
   "cell_type": "markdown",
   "id": "c68f377c-9fc2-4e32-8345-4d8d425e0568",
   "metadata": {},
   "source": [
    "You can split an array into several smaller arrays using hsplit. You can specify either the number of equally shaped arrays to return or the columns after which the division should occur."
   ]
  },
  {
   "cell_type": "code",
   "execution_count": 117,
   "id": "7f059fa8-e9a8-4f80-88f2-4507ac3104c6",
   "metadata": {},
   "outputs": [
    {
     "name": "stdout",
     "output_type": "stream",
     "text": [
      "[array([[ 1,  2,  3,  4],\n",
      "       [13, 14, 15, 16]]), array([[ 5,  6,  7,  8],\n",
      "       [17, 18, 19, 20]]), array([[ 9, 10, 11, 12],\n",
      "       [21, 22, 23, 24]])]\n",
      "[array([[ 1,  2,  3],\n",
      "       [13, 14, 15]]), array([[ 4],\n",
      "       [16]]), array([[ 5,  6,  7,  8,  9, 10, 11, 12],\n",
      "       [17, 18, 19, 20, 21, 22, 23, 24]])]\n"
     ]
    }
   ],
   "source": [
    "\n",
    "# Let’s say you have this array:\n",
    "\n",
    "x = np.arange(1, 25).reshape(2, 12)\n",
    "\n",
    "# If you wanted to split this array into three equally shaped arrays, you would run:\n",
    "\n",
    "print(np.hsplit(x, 3))\n",
    "\n",
    "# If you wanted to split your array after the third and fourth column, you’d run:\n",
    "\n",
    "print(np.hsplit(x, (3, 4)))\n",
    "  "
   ]
  },
  {
   "cell_type": "markdown",
   "id": "ec3612aa-2344-4495-8efc-d25a305ff8e4",
   "metadata": {},
   "source": [
    "## Data Operations and Statistics"
   ]
  },
  {
   "cell_type": "code",
   "execution_count": 119,
   "id": "0e43a88d-9fbf-4aa5-ae14-cda4904df984",
   "metadata": {},
   "outputs": [
    {
     "data": {
      "text/plain": [
       "array([1., 2.])"
      ]
     },
     "execution_count": 119,
     "metadata": {},
     "output_type": "execute_result"
    }
   ],
   "source": [
    "data = np.array([1.0, 2.0])\n",
    "data"
   ]
  },
  {
   "cell_type": "code",
   "execution_count": 120,
   "id": "109a2160-9427-464c-a2ed-158a7ff3edb9",
   "metadata": {},
   "outputs": [
    {
     "name": "stdout",
     "output_type": "stream",
     "text": [
      "2.0\n",
      "1.0\n",
      "3.0\n"
     ]
    }
   ],
   "source": [
    "print(data.max())\n",
    "print(data.min())\n",
    "print(data.sum())"
   ]
  },
  {
   "cell_type": "markdown",
   "id": "32e010dd-3fac-4fb8-a6e1-639db01aa90f",
   "metadata": {},
   "source": [
    "## Accessing or Changing Specific Elements, rows,columns,etc"
   ]
  },
  {
   "cell_type": "code",
   "execution_count": 37,
   "id": "d86a7c39-fbd9-49cb-ae82-4a0bb546bf81",
   "metadata": {},
   "outputs": [
    {
     "data": {
      "text/plain": [
       "array([[1, 2, 3, 4],\n",
       "       [7, 8, 9, 0]])"
      ]
     },
     "execution_count": 37,
     "metadata": {},
     "output_type": "execute_result"
    }
   ],
   "source": [
    "arr=np.array([[1,2,3,4],[7,8,9,0]])\n",
    "arr\n"
   ]
  },
  {
   "cell_type": "code",
   "execution_count": 38,
   "id": "8083ac94-4b36-48fa-83cb-6b294c8ebc32",
   "metadata": {},
   "outputs": [
    {
     "data": {
      "text/plain": [
       "2"
      ]
     },
     "execution_count": 38,
     "metadata": {},
     "output_type": "execute_result"
    }
   ],
   "source": [
    "#Get SPecific element\n",
    "arr[1,]"
   ]
  },
  {
   "cell_type": "code",
   "execution_count": 39,
   "id": "20fdeca1-f778-4de6-9b7f-c0d69fdc1cfc",
   "metadata": {},
   "outputs": [
    {
     "data": {
      "text/plain": [
       "0"
      ]
     },
     "execution_count": 39,
     "metadata": {},
     "output_type": "execute_result"
    }
   ],
   "source": [
    "arr[1,3]"
   ]
  },
  {
   "cell_type": "code",
   "execution_count": 40,
   "id": "a34651e7-8704-414c-8290-672de5357ab0",
   "metadata": {},
   "outputs": [
    {
     "data": {
      "text/plain": [
       "array([1, 2, 3, 4])"
      ]
     },
     "execution_count": 40,
     "metadata": {},
     "output_type": "execute_result"
    }
   ],
   "source": [
    "#get row\n",
    "arr[0,:]"
   ]
  },
  {
   "cell_type": "code",
   "execution_count": 41,
   "id": "481ac5a2-818f-463b-aaae-79b146a349d9",
   "metadata": {},
   "outputs": [
    {
     "data": {
      "text/plain": [
       "array([1, 7])"
      ]
     },
     "execution_count": 41,
     "metadata": {},
     "output_type": "execute_result"
    }
   ],
   "source": [
    "#Get col\n",
    "arr[:,0]"
   ]
  },
  {
   "cell_type": "code",
   "execution_count": 44,
   "id": "1daf022e-719e-4a25-ae63-40687f07f82f",
   "metadata": {},
   "outputs": [
    {
     "data": {
      "text/plain": [
       "array([2])"
      ]
     },
     "execution_count": 44,
     "metadata": {},
     "output_type": "execute_result"
    }
   ],
   "source": [
    "# Geting fancy [start,start:end:step]\n",
    "arr[0,1:-2:1]"
   ]
  },
  {
   "cell_type": "code",
   "execution_count": 45,
   "id": "1aa9f09d-566d-4d5b-804a-1c00f1ebc390",
   "metadata": {},
   "outputs": [],
   "source": [
    "arr[1,3]=90"
   ]
  },
  {
   "cell_type": "code",
   "execution_count": 46,
   "id": "31f8d748-20ee-48e4-af76-c477fa724735",
   "metadata": {},
   "outputs": [
    {
     "data": {
      "text/plain": [
       "array([[ 1,  2,  3,  4],\n",
       "       [ 7,  8,  9, 90]])"
      ]
     },
     "execution_count": 46,
     "metadata": {},
     "output_type": "execute_result"
    }
   ],
   "source": [
    "arr"
   ]
  },
  {
   "cell_type": "code",
   "execution_count": 48,
   "id": "e3d69ea2-e556-4b43-a574-8d363e557735",
   "metadata": {},
   "outputs": [],
   "source": [
    "arr[:,2]=5"
   ]
  },
  {
   "cell_type": "code",
   "execution_count": 49,
   "id": "7b7758c3-9549-4b0b-ad56-907c40798765",
   "metadata": {},
   "outputs": [
    {
     "data": {
      "text/plain": [
       "array([[ 1,  2,  5,  4],\n",
       "       [ 7,  8,  5, 90]])"
      ]
     },
     "execution_count": 49,
     "metadata": {},
     "output_type": "execute_result"
    }
   ],
   "source": [
    "arr"
   ]
  },
  {
   "cell_type": "code",
   "execution_count": 51,
   "id": "49cb2440-a1bb-44d5-99af-78495ca38927",
   "metadata": {},
   "outputs": [],
   "source": [
    "d=np.array([[1,3,5],[2,4,6],[9,0,89]])"
   ]
  },
  {
   "cell_type": "code",
   "execution_count": 54,
   "id": "9f71a790-e122-4e92-b730-fcd89a376eda",
   "metadata": {},
   "outputs": [
    {
     "data": {
      "text/plain": [
       "(3, 3)"
      ]
     },
     "execution_count": 54,
     "metadata": {},
     "output_type": "execute_result"
    }
   ],
   "source": [
    "d.shape\n"
   ]
  },
  {
   "cell_type": "code",
   "execution_count": 123,
   "id": "c6e8999e-1995-4e0a-9263-8dca7a0f6dec",
   "metadata": {},
   "outputs": [
    {
     "data": {
      "text/plain": [
       "array([[ 1,  7],\n",
       "       [ 2,  8],\n",
       "       [ 5,  5],\n",
       "       [ 4, 90]])"
      ]
     },
     "execution_count": 123,
     "metadata": {},
     "output_type": "execute_result"
    }
   ],
   "source": [
    "# You can transpose your array with arr.transpose().\n",
    "\n",
    "arr.transpose()"
   ]
  },
  {
   "cell_type": "markdown",
   "id": "bbc97fc4-a417-4bf3-aa04-22df83c3d9cb",
   "metadata": {},
   "source": [
    "Reversing a 2D array\n",
    "\n",
    "A 2D array works much the same way."
   ]
  },
  {
   "cell_type": "code",
   "execution_count": 124,
   "id": "217b2dab-b5d8-4767-b093-694e71db29a3",
   "metadata": {},
   "outputs": [
    {
     "name": "stdout",
     "output_type": "stream",
     "text": [
      "[[12 11 10  9]\n",
      " [ 8  7  6  5]\n",
      " [ 4  3  2  1]]\n",
      "[[ 9 10 11 12]\n",
      " [ 5  6  7  8]\n",
      " [ 1  2  3  4]]\n",
      "[[ 4  3  2  1]\n",
      " [ 8  7  6  5]\n",
      " [12 11 10  9]]\n",
      "[[ 1  2  3  4]\n",
      " [ 8  7  6  5]\n",
      " [ 9 10 11 12]]\n",
      "[[ 1 10  3  4]\n",
      " [ 8  7  6  5]\n",
      " [ 9  2 11 12]]\n"
     ]
    }
   ],
   "source": [
    "# If you start with this array:\n",
    "\n",
    "arr_2d = np.array([[1, 2, 3, 4], [5, 6, 7, 8], [9, 10, 11, 12]])\n",
    "# You can reverse the content in all of the rows and all of the columns with:\n",
    "\n",
    "reversed_arr = np.flip(arr_2d)\n",
    "print(reversed_arr)\n",
    "\n",
    "# You can easily reverse only the rows with:\n",
    "\n",
    "reversed_arr_rows = np.flip(arr_2d, axis=0)\n",
    "print(reversed_arr_rows)\n",
    "\n",
    "# Or reverse only the columns with:\n",
    "\n",
    "reversed_arr_columns = np.flip(arr_2d, axis=1)\n",
    "print(reversed_arr_columns)\n",
    "\n",
    "# You can also reverse the contents of only one column or row. For example, you can reverse the contents of the row at index position 1 (the second row):\n",
    "\n",
    "arr_2d[1] = np.flip(arr_2d[1])\n",
    "print(arr_2d)\n",
    "\n",
    "# You can also reverse the column at index position 1 (the second column):\n",
    "\n",
    "arr_2d[:,1] = np.flip(arr_2d[:,1])\n",
    "print(arr_2d)\n"
   ]
  },
  {
   "cell_type": "markdown",
   "id": "a5dc7483-42ff-42da-823c-77498ae8cebd",
   "metadata": {},
   "source": [
    "## Intializing Different Types of Arrays"
   ]
  },
  {
   "cell_type": "code",
   "execution_count": 57,
   "id": "562bdb11-856a-4747-881c-ba9cc93881a6",
   "metadata": {},
   "outputs": [
    {
     "data": {
      "text/plain": [
       "array([0., 0., 0., 0., 0.])"
      ]
     },
     "execution_count": 57,
     "metadata": {},
     "output_type": "execute_result"
    }
   ],
   "source": [
    "# All 0s\n",
    "np.zeros(5)"
   ]
  },
  {
   "cell_type": "code",
   "execution_count": 58,
   "id": "81165c93-2396-4439-b67a-a9cb0a267e99",
   "metadata": {},
   "outputs": [
    {
     "data": {
      "text/plain": [
       "array([[[1., 1., 1., 1.],\n",
       "        [1., 1., 1., 1.],\n",
       "        [1., 1., 1., 1.]],\n",
       "\n",
       "       [[1., 1., 1., 1.],\n",
       "        [1., 1., 1., 1.],\n",
       "        [1., 1., 1., 1.]]])"
      ]
     },
     "execution_count": 58,
     "metadata": {},
     "output_type": "execute_result"
    }
   ],
   "source": [
    "# All ones\n",
    "np.ones((2,3,4))"
   ]
  },
  {
   "cell_type": "code",
   "execution_count": 60,
   "id": "be0677dd-8a51-4a43-9ac8-dae7491a5500",
   "metadata": {},
   "outputs": [
    {
     "data": {
      "text/plain": [
       "array([[99, 99],\n",
       "       [99, 99]])"
      ]
     },
     "execution_count": 60,
     "metadata": {},
     "output_type": "execute_result"
    }
   ],
   "source": [
    "# Other no\n",
    "np.full((2,2),99)"
   ]
  },
  {
   "cell_type": "code",
   "execution_count": 62,
   "id": "2a184139-28f5-4a21-9668-778019ea39b2",
   "metadata": {},
   "outputs": [
    {
     "data": {
      "text/plain": [
       "array([4, 4, 4], dtype=int16)"
      ]
     },
     "execution_count": 62,
     "metadata": {},
     "output_type": "execute_result"
    }
   ],
   "source": [
    "# Any other full_like\n",
    "np.full_like(a,4)"
   ]
  },
  {
   "cell_type": "code",
   "execution_count": 63,
   "id": "b84443f9-ecef-44e0-be62-5ccb989b4aa5",
   "metadata": {},
   "outputs": [
    {
     "data": {
      "text/plain": [
       "array([[0.83022287, 0.58024827],\n",
       "       [0.89093331, 0.42848153],\n",
       "       [0.4092338 , 0.925796  ],\n",
       "       [0.48050571, 0.44264485]])"
      ]
     },
     "execution_count": 63,
     "metadata": {},
     "output_type": "execute_result"
    }
   ],
   "source": [
    "# Matrix of random numbers\n",
    "np.random.rand(4,2)"
   ]
  },
  {
   "cell_type": "code",
   "execution_count": 64,
   "id": "fff29278-bd57-4c0b-a020-cf5c22076052",
   "metadata": {},
   "outputs": [
    {
     "data": {
      "text/plain": [
       "array([0.72249113, 0.71345514, 0.8727131 ])"
      ]
     },
     "execution_count": 64,
     "metadata": {},
     "output_type": "execute_result"
    }
   ],
   "source": [
    "np.random.random_sample(a.shape)"
   ]
  },
  {
   "cell_type": "code",
   "execution_count": 121,
   "id": "42577fa0-e68b-4572-9a4d-3d64007fc0db",
   "metadata": {},
   "outputs": [
    {
     "name": "stdout",
     "output_type": "stream",
     "text": [
      "[1 2 3 5]\n"
     ]
    }
   ],
   "source": [
    "# uniques\n",
    "unique_values = np.unique(a)\n",
    "print(unique_values)"
   ]
  },
  {
   "cell_type": "code",
   "execution_count": 67,
   "id": "b9cee653-f7dd-493d-87ad-a5ef485fc6fe",
   "metadata": {},
   "outputs": [
    {
     "data": {
      "text/plain": [
       "array([[1, 7, 2],\n",
       "       [1, 0, 8]])"
      ]
     },
     "execution_count": 67,
     "metadata": {},
     "output_type": "execute_result"
    }
   ],
   "source": [
    "#Random Integer\n",
    "np.random.randint(9,size=(2,3))"
   ]
  },
  {
   "cell_type": "code",
   "execution_count": 68,
   "id": "94087b83-bde3-4ffa-8edf-4ad75316a991",
   "metadata": {},
   "outputs": [
    {
     "data": {
      "text/plain": [
       "array([[1., 0., 0.],\n",
       "       [0., 1., 0.],\n",
       "       [0., 0., 1.]])"
      ]
     },
     "execution_count": 68,
     "metadata": {},
     "output_type": "execute_result"
    }
   ],
   "source": [
    "#Identity matrix\n",
    "np.identity(3)"
   ]
  },
  {
   "cell_type": "code",
   "execution_count": 69,
   "id": "f37d162a-2bb6-4d81-be8f-9e7e58b4698a",
   "metadata": {},
   "outputs": [
    {
     "data": {
      "text/plain": [
       "array([[ 1,  2,  5,  4],\n",
       "       [ 1,  2,  5,  4],\n",
       "       [ 1,  2,  5,  4],\n",
       "       [ 7,  8,  5, 90],\n",
       "       [ 7,  8,  5, 90],\n",
       "       [ 7,  8,  5, 90]])"
      ]
     },
     "execution_count": 69,
     "metadata": {},
     "output_type": "execute_result"
    }
   ],
   "source": [
    "#reperat an array\n",
    "r1=np.repeat(arr,3,axis=0)\n",
    "r1"
   ]
  },
  {
   "cell_type": "code",
   "execution_count": 72,
   "id": "803f7d26-2786-49e1-bce7-6eccf853576c",
   "metadata": {},
   "outputs": [
    {
     "data": {
      "text/plain": [
       "array([[1., 1., 1., 1., 1.],\n",
       "       [1., 1., 1., 1., 1.],\n",
       "       [1., 1., 1., 1., 1.],\n",
       "       [1., 1., 1., 1., 1.],\n",
       "       [1., 1., 1., 1., 1.]])"
      ]
     },
     "execution_count": 72,
     "metadata": {},
     "output_type": "execute_result"
    }
   ],
   "source": [
    "output=np.ones((5,5))\n",
    "output"
   ]
  },
  {
   "cell_type": "code",
   "execution_count": 76,
   "id": "c37dc65c-1b54-4943-a166-e240dbda8695",
   "metadata": {},
   "outputs": [
    {
     "data": {
      "text/plain": [
       "array([[0., 0., 0.],\n",
       "       [0., 0., 0.],\n",
       "       [0., 0., 0.]])"
      ]
     },
     "execution_count": 76,
     "metadata": {},
     "output_type": "execute_result"
    }
   ],
   "source": [
    "z=np.zeros((3,3))\n",
    "z"
   ]
  },
  {
   "cell_type": "code",
   "execution_count": 77,
   "id": "abeebe72-04f6-4d85-b323-73877b87a833",
   "metadata": {},
   "outputs": [],
   "source": [
    "z[1,1]=9"
   ]
  },
  {
   "cell_type": "code",
   "execution_count": 78,
   "id": "5612eca9-87e1-47ad-aa30-08c3ca649a48",
   "metadata": {},
   "outputs": [
    {
     "data": {
      "text/plain": [
       "array([[0., 0., 0.],\n",
       "       [0., 9., 0.],\n",
       "       [0., 0., 0.]])"
      ]
     },
     "execution_count": 78,
     "metadata": {},
     "output_type": "execute_result"
    }
   ],
   "source": [
    "z"
   ]
  },
  {
   "cell_type": "code",
   "execution_count": 79,
   "id": "cbac694a-071c-4849-9568-7d3edcb571e5",
   "metadata": {},
   "outputs": [
    {
     "data": {
      "text/plain": [
       "array([[1., 1., 1., 1., 1.],\n",
       "       [1., 0., 0., 0., 1.],\n",
       "       [1., 0., 9., 0., 1.],\n",
       "       [1., 0., 0., 0., 1.],\n",
       "       [1., 1., 1., 1., 1.]])"
      ]
     },
     "execution_count": 79,
     "metadata": {},
     "output_type": "execute_result"
    }
   ],
   "source": [
    "output[1:4,1:4]=z\n",
    "output"
   ]
  },
  {
   "cell_type": "markdown",
   "id": "c20de807-a56d-4eae-8230-060712524b27",
   "metadata": {},
   "source": [
    "#### Be careful while copying"
   ]
  },
  {
   "cell_type": "code",
   "execution_count": 80,
   "id": "9216a8c9-c23c-4ddb-b7ef-baa3faf93ab5",
   "metadata": {},
   "outputs": [
    {
     "data": {
      "text/plain": [
       "array([1, 2, 3], dtype=int16)"
      ]
     },
     "execution_count": 80,
     "metadata": {},
     "output_type": "execute_result"
    }
   ],
   "source": [
    "f=a.copy()\n",
    "# Creates a new copy instead of pointing to the same value\n",
    "f"
   ]
  },
  {
   "cell_type": "markdown",
   "id": "47c86dba-d829-4ff8-980e-1f110258502d",
   "metadata": {},
   "source": [
    "## Math Utitlies"
   ]
  },
  {
   "cell_type": "code",
   "execution_count": 81,
   "id": "a8dcc4c2-5d9c-4dba-b9a7-b128e60bfb41",
   "metadata": {},
   "outputs": [
    {
     "data": {
      "text/plain": [
       "array([3, 4, 6])"
      ]
     },
     "execution_count": 81,
     "metadata": {},
     "output_type": "execute_result"
    }
   ],
   "source": [
    "m=np.array([1,2,4])\n",
    "# Element wise addition, sub, mul\n",
    "m+2"
   ]
  },
  {
   "cell_type": "code",
   "execution_count": 82,
   "id": "c5eb035a-cf6d-45ef-959a-3c6c636a2dca",
   "metadata": {},
   "outputs": [
    {
     "data": {
      "text/plain": [
       "array([0, 1, 3])"
      ]
     },
     "execution_count": 82,
     "metadata": {},
     "output_type": "execute_result"
    }
   ],
   "source": [
    "m-1"
   ]
  },
  {
   "cell_type": "code",
   "execution_count": 83,
   "id": "a436f793-6b82-426b-a44a-f19e043cf0cf",
   "metadata": {},
   "outputs": [
    {
     "data": {
      "text/plain": [
       "array([2, 4, 8])"
      ]
     },
     "execution_count": 83,
     "metadata": {},
     "output_type": "execute_result"
    }
   ],
   "source": [
    "m*2"
   ]
  },
  {
   "cell_type": "code",
   "execution_count": 84,
   "id": "e6efe852-0ebe-41ae-a132-66c7044bc777",
   "metadata": {},
   "outputs": [
    {
     "data": {
      "text/plain": [
       "array([0.25, 0.5 , 1.  ])"
      ]
     },
     "execution_count": 84,
     "metadata": {},
     "output_type": "execute_result"
    }
   ],
   "source": [
    "m/4"
   ]
  },
  {
   "cell_type": "code",
   "execution_count": 86,
   "id": "7e8b4501-9929-4b13-be8c-fd3623eb7b5b",
   "metadata": {},
   "outputs": [
    {
     "data": {
      "text/plain": [
       "array([ 4,  8, 13])"
      ]
     },
     "execution_count": 86,
     "metadata": {},
     "output_type": "execute_result"
    }
   ],
   "source": [
    "n=np.array([3,6,9])\n",
    "m+n"
   ]
  },
  {
   "cell_type": "code",
   "execution_count": 87,
   "id": "00fe2c10-3b5e-46b6-b9ca-d29a3ba96b55",
   "metadata": {},
   "outputs": [
    {
     "data": {
      "text/plain": [
       "array([     1,     64, 262144])"
      ]
     },
     "execution_count": 87,
     "metadata": {},
     "output_type": "execute_result"
    }
   ],
   "source": [
    "m**n"
   ]
  },
  {
   "cell_type": "code",
   "execution_count": 88,
   "id": "60df0a77-b135-4b1c-97a2-ad5fc0aad5a4",
   "metadata": {},
   "outputs": [
    {
     "data": {
      "text/plain": [
       "array([ 0.14112001, -0.2794155 ,  0.41211849])"
      ]
     },
     "execution_count": 88,
     "metadata": {},
     "output_type": "execute_result"
    }
   ],
   "source": [
    "#Take the sin\n",
    "np.sin(n)"
   ]
  },
  {
   "cell_type": "code",
   "execution_count": 98,
   "id": "804079c0-c2a4-4715-bce7-b8a8d5688aa8",
   "metadata": {},
   "outputs": [
    {
     "data": {
      "text/plain": [
       "array([ 0.54030231, -0.41614684, -0.65364362])"
      ]
     },
     "execution_count": 98,
     "metadata": {},
     "output_type": "execute_result"
    }
   ],
   "source": [
    "np.cos(m)"
   ]
  },
  {
   "cell_type": "code",
   "execution_count": null,
   "id": "95a9a1c9-38be-4ad1-9391-0d33c184979a",
   "metadata": {},
   "outputs": [],
   "source": [
    "# For a lot more (https://docs.scipy.org/doc/numpy/reference/routines.math.html)"
   ]
  },
  {
   "cell_type": "markdown",
   "id": "f73086a7-8119-497a-bded-d9e76ac0ad7c",
   "metadata": {},
   "source": [
    "## Linear Algebra"
   ]
  },
  {
   "cell_type": "code",
   "execution_count": 94,
   "id": "997604df-9787-42b7-af3a-cc8d5cf3e9f1",
   "metadata": {},
   "outputs": [
    {
     "name": "stdout",
     "output_type": "stream",
     "text": [
      "[[1. 1. 1.]\n",
      " [1. 1. 1.]]\n"
     ]
    },
    {
     "data": {
      "text/plain": [
       "array([[2, 2],\n",
       "       [2, 2],\n",
       "       [2, 2]])"
      ]
     },
     "execution_count": 94,
     "metadata": {},
     "output_type": "execute_result"
    }
   ],
   "source": [
    "p=np.ones((2,3))\n",
    "print(p)\n",
    "q=np.full((3,2),2)\n",
    "q"
   ]
  },
  {
   "cell_type": "code",
   "execution_count": 96,
   "id": "162dd02d-9981-4012-8c7f-d37b8c131415",
   "metadata": {},
   "outputs": [
    {
     "data": {
      "text/plain": [
       "array([[6., 6.],\n",
       "       [6., 6.]])"
      ]
     },
     "execution_count": 96,
     "metadata": {},
     "output_type": "execute_result"
    }
   ],
   "source": [
    "# Matrix Multiplication\n",
    "np.matmul(p,q)"
   ]
  },
  {
   "cell_type": "code",
   "execution_count": 97,
   "id": "37e81768-b1eb-43db-aedb-655e1273415c",
   "metadata": {},
   "outputs": [
    {
     "data": {
      "text/plain": [
       "1.0"
      ]
     },
     "execution_count": 97,
     "metadata": {},
     "output_type": "execute_result"
    }
   ],
   "source": [
    "# Determiniant of matrix\n",
    "c=np.identity(2)\n",
    "np.linalg.det(c)\n"
   ]
  },
  {
   "cell_type": "markdown",
   "id": "736ac3f4-446b-471a-940d-706c0465eba1",
   "metadata": {},
   "source": [
    "Reference docs (https://docs.scipy.org/doc/numpy/reference/routines.linalg.html)\n",
    "\n",
    "Determinant\n",
    "Trace\n",
    "Singular Vector Decomposition\n",
    "Eigenvalues\n",
    "Matrix Norm\n",
    "Inverse\n",
    "Etc..."
   ]
  },
  {
   "cell_type": "code",
   "execution_count": 100,
   "id": "cf02f032-06d1-40a9-a3d4-86fc28ea0969",
   "metadata": {},
   "outputs": [
    {
     "data": {
      "text/plain": [
       "array([-1.,  1.])"
      ]
     },
     "execution_count": 100,
     "metadata": {},
     "output_type": "execute_result"
    }
   ],
   "source": [
    "# Solve the system of equations x0 + 2 * x1 = 1 and 3 * x0 + 5 * x1 = 2:\n",
    "\n",
    "a = np.array([[1, 2], [3, 5]])\n",
    "b = np.array([1, 2])\n",
    "x = np.linalg.solve(a, b)\n",
    "x\n"
   ]
  },
  {
   "cell_type": "markdown",
   "id": "392b48d8-dd11-49d8-8e12-fdbd6a75522a",
   "metadata": {},
   "source": [
    "## Load from a file"
   ]
  },
  {
   "cell_type": "code",
   "execution_count": 133,
   "id": "ca4df07c-bca3-4f93-946b-f9c2dc807f92",
   "metadata": {},
   "outputs": [],
   "source": [
    "nm=np.genfromtxt('data.txt',delimiter=',').astype('int16') # converts to int16 too"
   ]
  },
  {
   "cell_type": "markdown",
   "id": "a1a9f93c-95e3-4d39-a08d-3d879a628432",
   "metadata": {},
   "source": [
    "## Boolean Masking and Advanced Indexing"
   ]
  },
  {
   "cell_type": "code",
   "execution_count": 134,
   "id": "ff4a02ba-8919-4f89-8b18-f36a778c7540",
   "metadata": {},
   "outputs": [
    {
     "data": {
      "text/plain": [
       "array([False, False, False, False, False,  True, False])"
      ]
     },
     "execution_count": 134,
     "metadata": {},
     "output_type": "execute_result"
    }
   ],
   "source": [
    "nm>50"
   ]
  },
  {
   "cell_type": "code",
   "execution_count": 135,
   "id": "2140f39d-77b7-457c-97f1-d20934722eee",
   "metadata": {},
   "outputs": [
    {
     "data": {
      "text/plain": [
       "array([90], dtype=int16)"
      ]
     },
     "execution_count": 135,
     "metadata": {},
     "output_type": "execute_result"
    }
   ],
   "source": [
    "nm[nm>50]"
   ]
  },
  {
   "cell_type": "code",
   "execution_count": 138,
   "id": "58689d04-ae9e-4172-87c0-58bf50a99f72",
   "metadata": {},
   "outputs": [],
   "source": [
    "# you can index with a list in numy\n",
    "po=np.array([23,56,78,0,90,45,1])"
   ]
  },
  {
   "cell_type": "code",
   "execution_count": 140,
   "id": "fbe59954-7c04-419a-ac75-343738a20624",
   "metadata": {},
   "outputs": [
    {
     "data": {
      "text/plain": [
       "array([56, 78,  0])"
      ]
     },
     "execution_count": 140,
     "metadata": {},
     "output_type": "execute_result"
    }
   ],
   "source": [
    "po[[1,2,3]]"
   ]
  },
  {
   "cell_type": "code",
   "execution_count": null,
   "id": "4dea27d8-89f0-4125-b9d0-4b5fdec8b89b",
   "metadata": {},
   "outputs": [],
   "source": []
  }
 ],
 "metadata": {
  "kernelspec": {
   "display_name": "Python 3 (ipykernel)",
   "language": "python",
   "name": "python3"
  },
  "language_info": {
   "codemirror_mode": {
    "name": "ipython",
    "version": 3
   },
   "file_extension": ".py",
   "mimetype": "text/x-python",
   "name": "python",
   "nbconvert_exporter": "python",
   "pygments_lexer": "ipython3",
   "version": "3.11.5"
  }
 },
 "nbformat": 4,
 "nbformat_minor": 5
}
