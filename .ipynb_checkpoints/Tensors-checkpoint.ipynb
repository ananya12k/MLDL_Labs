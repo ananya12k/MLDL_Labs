{
 "cells": [
  {
   "cell_type": "code",
   "execution_count": 1,
   "id": "ebfb0d45-6f60-40a2-83de-435937abb166",
   "metadata": {},
   "outputs": [],
   "source": [
    "# Tensor flow relives us from creating linking between nodes, it does it for us cuz manually we would create a lot of mistakes.\n",
    "# All NN can be made from scratch and all lib like TF will have its own Data Structure and have operations on it.\n"
   ]
  },
  {
   "cell_type": "markdown",
   "id": "2d24abf1-d0e1-46b2-aaeb-9a230c5dbc7c",
   "metadata": {},
   "source": [
    "# Introduction to Tensors, TensorFlow, and Keras\r\n",
    "\r\n",
    "## 1. Tensors\r\n",
    "\r\n",
    "### 1.1 What is a Tensor?\r\n",
    "\r\n",
    "A tensor is a multi-dimensional array used to represent data in a structured format. Tensors are fundamental to many machine learning and deep learning frameworks, as they enable efficient mathematical operations and data manipulation.\r\n",
    "\r\n",
    "- **0D Tensor (Scalar)**: A single value. Example: `5`\r\n",
    "- **1D Tensor (Vector)**: A one-dimensional array of values. Example: `[1, 2, 3]`\r\n",
    "- **2D Tensor (Matrix)**: A two-dimensional array of values arranged in rows and columns. Example: `[[1, 2], [3, 4]]`\r\n",
    "- **3D Tensor**: A three-dimensional array. Example: `[[[1, 2], [3, 4]], [[5, 6], [7, 8]]]`\r\n",
    "- **4D Tensor**: A four-dimensional array. Example: `[[[[1, 2], [3, 4]], [[5, 6], [7, 8]]]]`\r\n",
    "- **5D Tensor**: A five-dimensional array. Example: `[[[[[1, 2]]]]]`\r\n",
    "\r\n",
    "### 1.2 Tensor Components\r\n",
    "\r\n",
    "- **Shape**: Describes the dimensions of the tensor. For example, a tensor with shape `(3, 4)` has 3 rows and 4 columns.\r\n",
    "- **Data Type**: Specifies the type of data stored in the tensor (e.g., `int32`, `float32`).\r\n",
    "- **Rank**: The number of dimensions a tensor has. For example, a matrix has a rank of 2.\r\n",
    "\r\n",
    "### 1.3 Tensor Operations\r\n",
    "\r\n",
    "- **Addition and Subtraction**: Element-wise operations.\r\n",
    "- **Multiplication**: Can be element-wise or matrix multiplication.\r\n",
    "- **Reshaping**: Changing the shape of a tensor without altering its data.\r\n",
    "- **Slicing and Indexing**: Extracting specific parts of a tensor.\r\n",
    "- **Broadcasting**: Expanding the shape of a tensor to match another tensor for element-wise operations.\r\n",
    "\r\n",
    "### 1.4 Broadcasting\r\n",
    "\r\n",
    "Broadcasting is a method of expanding tensors with smaller shapes to match tensors with larger shapes for element-wise operations. The broadcasting rules are:\r\n",
    "\r\n",
    "1. **Align Shapes**: Compare shapes from the rightmost dimension.\r\n",
    "2. **Compatibility Check**: Dimensions must be either equal or one of them must be 1.\r\n",
    "3. **Expand Dimensions**: Pad dimensions with ones where necessary.\r\n",
    "\r\n",
    "## 2. TensorFlow\r\n",
    "\r\n",
    "### 2.1 What is TensorFlow?\r\n",
    "\r\n",
    "TensorFlow is an open-source machine learning library developed by Google. It provides tools for building and training machine learning models, particularly neural networks. TensorFlow supports both CPU and GPU computations and is designed to facilitate deep learning research and production.\r\n",
    "\r\n",
    "### 2.2 Key Features\r\n",
    "\r\n",
    "- **Flexible and Efficient**: Allows for complex computations and efficient execution on various hardware.\r\n",
    "- **Keras Integration**: Provides high-level APIs for easier model building.\r\n",
    "- **Ecosystem**: Includes tools for data loading, preprocessing, and visualization (e.g., TensorBoard).\r\n",
    "\r\n",
    "### 2.3 TensorFlow Components\r\n",
    "\r\n",
    "- **Tensors**: The core data structure used for computations.\r\n",
    "- **Graphs**: Computational graphs represent the structure of computations in TensorFlow.\r\n",
    "- **Sessions**: Execute the computational graphs in TensorFlow.\r\n",
    "- **Layers**: Building blocks for constructing neural networks.\r\n",
    "\r\n",
    "### 2.4 Basic Operations\r\n",
    "\r\n",
    "```python\r\n",
    "import tensorflow as tf\r\n",
    "\r\n",
    "# Create tensors\r\n",
    "a = tf.constant([1, 2, 3])\r\n",
    "b = tf.constant([4, 5, 6])\r\n",
    "\r\n",
    "# Add tensors\r\n",
    "c = tf.add(a, b)\r\n",
    "\r\n",
    "print(c)\r\n"
   ]
  },
  {
   "cell_type": "code",
   "execution_count": 2,
   "id": "2d1557e6-95f9-4651-ae3d-a82897c1b3b7",
   "metadata": {},
   "outputs": [],
   "source": [
    "import tensorflow as tf"
   ]
  },
  {
   "cell_type": "code",
   "execution_count": 11,
   "id": "b29dadce-3d8d-4ada-8e9f-aa5716dc6e08",
   "metadata": {},
   "outputs": [
    {
     "data": {
      "text/plain": [
       "<tf.Tensor: shape=(), dtype=int32, numpy=3>"
      ]
     },
     "execution_count": 11,
     "metadata": {},
     "output_type": "execute_result"
    }
   ],
   "source": [
    "# Creating a scalar\n",
    "scalar=tf.constant(3)\n",
    "# printing\n",
    "scalar\n"
   ]
  },
  {
   "cell_type": "markdown",
   "id": "8cd763af-a6d3-4c9a-889e-4faa6c853916",
   "metadata": {},
   "source": [
    "\n",
    "The expression <tf.Tensor: shape=(), dtype=int32, numpy=3> describes a scalar tensor in TensorFlow. Here's what each part means:\n",
    "\n",
    "<tf.Tensor: This indicates that the object is a TensorFlow tensor.\n",
    "\n",
    "shape=(), The shape () signifies that the tensor is a scalar, meaning it has no dimensions (0D tensor). Scalars contain a single value, unlike vectors or matrices, which have one or more dimensions.\n",
    "\n",
    "dtype=int32, This shows the data type of the tensor's single value. In this case, int32 indicates that the value is a 32-bit integer.\n",
    "\n",
    "numpy=3> This represents the value stored in the tensor, shown as a NumPy value. Here, the value is 3.\n"
   ]
  },
  {
   "cell_type": "code",
   "execution_count": 6,
   "id": "6ee211f4-6484-4b68-a60e-03a09f5a27a3",
   "metadata": {},
   "outputs": [
    {
     "data": {
      "text/plain": [
       "<tf.Tensor: shape=(3,), dtype=int32, numpy=array([1, 2, 3])>"
      ]
     },
     "execution_count": 6,
     "metadata": {},
     "output_type": "execute_result"
    }
   ],
   "source": [
    "vector=tf.constant([1,2,3])"
   ]
  },
  {
   "cell_type": "markdown",
   "id": "e64e376a-d68c-452d-a737-1a0e0fe7a13c",
   "metadata": {},
   "source": [
    "The expression <tf.Tensor: shape=(3,), dtype=int32, numpy=array([1, 2, 3])> is a representation of a tensor in TensorFlow. Here's what each part means:\n",
    "\n",
    "<tf.Tensor: This indicates that the object is a TensorFlow tensor.\n",
    "\n",
    "shape=(3,), This specifies the shape of the tensor. The shape (3,) means that the tensor is a 1-dimensional array (or vector) with 3 elements.\n",
    "\n",
    "dtype=int32, This indicates the data type of the elements within the tensor. In this case, int32 means that the elements are 32-bit integers.\n",
    "\n",
    "numpy=array([1, 2, 3])> This shows the contents of the tensor as a NumPy array, which is [1, 2, 3]. TensorFlow tensors can be converted to NumPy arrays, and this field helps visualize the data stored in the tensor."
   ]
  },
  {
   "cell_type": "code",
   "execution_count": 7,
   "id": "66f00f68-5d2b-4e0a-a75c-f4a4e1b6caa4",
   "metadata": {},
   "outputs": [
    {
     "data": {
      "text/plain": [
       "<tf.Tensor: shape=(3, 2), dtype=int32, numpy=\n",
       "array([[1, 2],\n",
       "       [4, 5],\n",
       "       [5, 6]])>"
      ]
     },
     "execution_count": 7,
     "metadata": {},
     "output_type": "execute_result"
    }
   ],
   "source": [
    "matrix=tf.constant([[1,2],[4,5],[5,6]])\n",
    "matrix"
   ]
  },
  {
   "cell_type": "markdown",
   "id": "f97d161e-496a-412f-946b-0968c8485c32",
   "metadata": {},
   "source": [
    "The expression <tf.Tensor: shape=(3, 2), dtype=int32, numpy=array([[1, 2], [4, 5], [5, 6]])> describes a 2D tensor in TensorFlow. Here's what each part means:\n",
    "\n",
    "<tf.Tensor: This indicates that the object is a TensorFlow tensor.\n",
    "\n",
    "shape=(3, 2), The shape (3, 2) specifies that the tensor has 2 dimensions: 3 rows and 2 columns. In other words, it's a matrix with 3 rows and 2 columns.\n",
    "\n",
    "dtype=int32, This shows that the elements of the tensor are 32-bit integers (int32).\n",
    "\n",
    "numpy=array([[1, 2], [4, 5], [5, 6]])> This represents the actual data in the tensor as a NumPy array. The values in this tensor are:"
   ]
  },
  {
   "cell_type": "code",
   "execution_count": 15,
   "id": "60e3c960-7a41-4f94-a123-27911014a2f0",
   "metadata": {},
   "outputs": [
    {
     "data": {
      "text/plain": [
       "<tf.Tensor: shape=(3, 3, 2), dtype=int32, numpy=\n",
       "array([[[1, 2],\n",
       "        [4, 5],\n",
       "        [5, 6]],\n",
       "\n",
       "       [[1, 2],\n",
       "        [4, 5],\n",
       "        [5, 6]],\n",
       "\n",
       "       [[1, 2],\n",
       "        [4, 5],\n",
       "        [5, 6]]])>"
      ]
     },
     "execution_count": 15,
     "metadata": {},
     "output_type": "execute_result"
    }
   ],
   "source": [
    "three_d = tf.constant([\n",
    "    [[1, 2], [4, 5], [5, 6]],\n",
    "    [[1, 2], [4, 5], [5, 6]],\n",
    "    [[1, 2], [4, 5], [5, 6]]\n",
    "])\n",
    "\n",
    "three_d"
   ]
  },
  {
   "cell_type": "markdown",
   "id": "686bf091-f1c2-44c8-89d6-8111dc9c36c0",
   "metadata": {},
   "source": [
    "The expression <tf.Tensor: shape=(3, 3, 2), dtype=int32, numpy=array([[[1, 2], [4, 5], [5, 6]], [[1, 2], [4, 5], [5, 6]], [[1, 2], [4, 5], [5, 6]]])> describes a 3D tensor in TensorFlow. Here’s what each part means:\n",
    "\n",
    "Breakdown of the Tensor\n",
    "<tf.Tensor: This indicates that the object is a TensorFlow tensor.\n",
    "\n",
    "shape=(3, 3, 2), This shows that the tensor has 3 dimensions:\n",
    "\n",
    "The first dimension has 3 elements (3 matrices).\n",
    "The second dimension also has 3 elements (3 rows in each matrix).\n",
    "The third dimension has 2 elements (2 columns in each row).\n",
    "dtype=int32, This indicates that the data type of the elements in the tensor is 32-bit integers (int32).\n",
    "\n",
    "numpy=array([[[1, 2], [4, 5], [5, 6]], [[1, 2], [4, 5], [5, 6]], [[1, 2], [4, 5], [5, 6]]])> This represents the tensor’s data in a NumPy array format. The tensor contains the following values:"
   ]
  },
  {
   "cell_type": "code",
   "execution_count": 16,
   "id": "8d578544-fd42-4ac4-9c2f-0cccfb739ece",
   "metadata": {},
   "outputs": [
    {
     "data": {
      "text/plain": [
       "<tf.Tensor: shape=(2, 2, 3, 2), dtype=int32, numpy=\n",
       "array([[[[ 1,  2],\n",
       "         [ 3,  4],\n",
       "         [ 5,  6]],\n",
       "\n",
       "        [[ 7,  8],\n",
       "         [ 9, 10],\n",
       "         [11, 12]]],\n",
       "\n",
       "\n",
       "       [[[13, 14],\n",
       "         [15, 16],\n",
       "         [17, 18]],\n",
       "\n",
       "        [[19, 20],\n",
       "         [21, 22],\n",
       "         [23, 24]]]])>"
      ]
     },
     "execution_count": 16,
     "metadata": {},
     "output_type": "execute_result"
    }
   ],
   "source": [
    "# Creating a 4D tensor\n",
    "four_d = tf.constant([\n",
    "    [\n",
    "        [[1, 2], [3, 4], [5, 6]],  # First 3x2 matrix\n",
    "        [[7, 8], [9, 10], [11, 12]]  # Second 3x2 matrix\n",
    "    ],\n",
    "    [\n",
    "        [[13, 14], [15, 16], [17, 18]],  # Third 3x2 matrix\n",
    "        [[19, 20], [21, 22], [23, 24]]   # Fourth 3x2 matrix\n",
    "    ]\n",
    "])\n",
    "\n",
    "four_d\n"
   ]
  },
  {
   "cell_type": "code",
   "execution_count": 17,
   "id": "51018816-e456-40ac-8542-11ccdb390ace",
   "metadata": {},
   "outputs": [
    {
     "data": {
      "text/plain": [
       "<tf.Tensor: shape=(1, 1, 1, 1, 1), dtype=int32, numpy=array([[[[[42]]]]])>"
      ]
     },
     "execution_count": 17,
     "metadata": {},
     "output_type": "execute_result"
    }
   ],
   "source": [
    "# Creating a 5D tensor with a single element\n",
    "five_d = tf.constant([[[[[42]]]]])\n",
    "five_d"
   ]
  },
  {
   "cell_type": "code",
   "execution_count": 19,
   "id": "5ace47f9-2385-453e-88e2-162f809b91f1",
   "metadata": {},
   "outputs": [
    {
     "name": "stdout",
     "output_type": "stream",
     "text": [
      "tf.Tensor([1 2 3], shape=(3,), dtype=int32)\n",
      "tf.Tensor([2 3 4], shape=(3,), dtype=int32)\n"
     ]
    }
   ],
   "source": [
    "result=tf.add(vector,1)\n",
    "print(vector)\n",
    "print(result)  # Broadcasting is done where another tensor is created and operation is done on it.\n",
    "# It does all the shaping and all if the shapes of two tensor are different"
   ]
  },
  {
   "cell_type": "code",
   "execution_count": 20,
   "id": "59154872-ce0b-48a0-88bc-cbf4c54fdbfb",
   "metadata": {},
   "outputs": [
    {
     "name": "stdout",
     "output_type": "stream",
     "text": [
      "tf.Tensor(\n",
      "[[1 2]\n",
      " [4 5]\n",
      " [5 6]], shape=(3, 2), dtype=int32)\n",
      "tf.Tensor(\n",
      "[[ 3  6]\n",
      " [12 15]\n",
      " [15 18]], shape=(3, 2), dtype=int32)\n"
     ]
    }
   ],
   "source": [
    "multiply=scalar*matrix\n",
    "print(matrix)\n",
    "print(multiply)"
   ]
  },
  {
   "cell_type": "code",
   "execution_count": 22,
   "id": "7b0b16f9-4fb7-4d28-beb9-747a701c7a79",
   "metadata": {},
   "outputs": [
    {
     "name": "stdout",
     "output_type": "stream",
     "text": [
      "tf.Tensor(\n",
      "[[1 2]\n",
      " [4 5]\n",
      " [5 6]], shape=(3, 2), dtype=int32)\n",
      "tf.Tensor(\n",
      "[[ 3  6]\n",
      " [12 15]\n",
      " [15 18]], shape=(3, 2), dtype=int32)\n"
     ]
    }
   ],
   "source": [
    "multiply_5d=matrix*five_d\n",
    "print(matrix)\n",
    "print(multiply)"
   ]
  },
  {
   "cell_type": "markdown",
   "id": "521a6bd0-caec-4d03-9f51-4ec315b252c8",
   "metadata": {},
   "source": [
    "# Broadcasting Rules in TensorFlow\r\n",
    "\r\n",
    "Broadcasting is a technique used in TensorFlow (and NumPy) that allows for element-wise operations on tensors of different shapes. This is done by automatically expanding the smaller tensor's shape to match the shape of the larger tensor. Broadcasting follows specific rules to ensure compatibility. Below is an explanation of these rules.\r\n",
    "\r\n",
    "## Broadcasting Rules\r\n",
    "\r\n",
    "1. **Align Shapes**:\r\n",
    "   - Tensor shapes are compared from right to left.\r\n",
    "   - If the shapes differ, TensorFlow expands the smaller shape along its dimensions to match the larger shape.\r\n",
    "\r\n",
    "2. **Compatibility Check**:\r\n",
    "   - Two dimensions are compatible if they are equal or one of them is 1.\r\n",
    "   - If dimensions are different and neither is 1, broadcasting cannot be performed, and an error will be raised.\r\n",
    "\r\n",
    "3. **Expand Dimensions**:\r\n",
    "   - If a tensor has fewer dimensions, its shape is padded with ones on the left until the shapes have the same number of dimensions.\r\n",
    "   - The tensor is then broadcasted by repeating its elements along the dimensions where it is 1.\r\n",
    "\r\n",
    "## Examples\r\n",
    "\r\n",
    "### Example 1: Basic Broadcasting\r\n",
    "\r\n",
    "**Tensors**:\r\n",
    "- `A` with shape `(3, 4)`\r\n",
    "- `B` with shape `(1, 4)`\r\n",
    "\r\n",
    "**Operation**: Addition\r\n",
    "\r\n",
    "**Result Shape**: `(3, 4)`\r\n",
    "\r\n",
    "**Explanation**: Tensor `B` is broadcasted to shape `(3, 4)` by repeating its values along the first dimension.\r\n",
    "\r\n",
    "```python\r\n",
    "import tensorflow as tf\r\n",
    "\r\n",
    "A = tf.constant([[1, 2, 3, 4], [5, 6, 7, 8], [9, 10, 11, 12]])\r\n",
    "B = tf.constant([[1, 2, 3, 4]])\r\n",
    "\r\n",
    "result = A + B\r\n",
    "print(result)\r\n"
   ]
  },
  {
   "cell_type": "code",
   "execution_count": 26,
   "id": "138d9168-bc35-46ba-87b1-da14ffc10c3a",
   "metadata": {},
   "outputs": [],
   "source": [
    "\n",
    "# Define a 2D tensor\n",
    "A = tf.constant([[1, 2, 3, 4], [5, 6, 7, 8], [9, 10, 11, 12]])\n",
    "\n",
    "# Define a 5D tensor\n",
    "B = tf.constant([[[[[1, 2, 3, 4, 5], [6, 7, 8, 9, 10], [11, 12, 13, 14, 15], [16, 17, 18, 19, 20]]]]])\n",
    "\n",
    "\n"
   ]
  },
  {
   "cell_type": "code",
   "execution_count": 28,
   "id": "24d89414-2b50-49c6-95d5-ba07ce00e640",
   "metadata": {},
   "outputs": [
    {
     "name": "stdout",
     "output_type": "stream",
     "text": [
      "tf.Tensor(\n",
      "[[[[[  1   2   3   4   5]\n",
      "    [ 12  14  16  18  20]\n",
      "    [ 33  36  39  42  45]\n",
      "    [ 64  68  72  76  80]]\n",
      "\n",
      "   [[  5  10  15  20  25]\n",
      "    [ 36  42  48  54  60]\n",
      "    [ 77  84  91  98 105]\n",
      "    [128 136 144 152 160]]\n",
      "\n",
      "   [[  9  18  27  36  45]\n",
      "    [ 60  70  80  90 100]\n",
      "    [121 132 143 154 165]\n",
      "    [192 204 216 228 240]]]]], shape=(1, 1, 3, 4, 5), dtype=int32)\n"
     ]
    }
   ],
   "source": [
    "\n",
    "# Perform element-wise multiplication\n",
    "ans = A[:, :, tf.newaxis] * B\n",
    "\n",
    "# Displaying the result\n",
    "print(ans)\n"
   ]
  },
  {
   "cell_type": "markdown",
   "id": "919d5c30-7b0d-4f2b-bf46-3be478329208",
   "metadata": {},
   "source": [
    "# TensorFlow Operations\r\n",
    "\r\n",
    "## 1. Tensor Creation\r\n",
    "\r\n",
    "### 1.1 Creating Constants\r\n",
    "\r\n",
    "```python\r\n",
    "import tensorflow as tf\r\n",
    "\r\n",
    "# Scalar\r\n",
    "scalar = tf.constant(5)\r\n",
    "print(\"Scalar:\", scalar)\r\n",
    "\r\n",
    "# Vector\r\n",
    "vector = tf.constant([1, 2, 3, 4])\r\n",
    "print(\"Vector:\", vector)\r\n",
    "\r\n",
    "# Matrix\r\n",
    "matrix = tf.constant([[1, 2], [3, 4]])\r\n",
    "print(\"Matrix:\\n\", matrix)\r\n",
    "\r\n",
    "# 3D Tensor\r\n",
    "tensor3d = tf.constant([[[1, 2], [3, 4]], [[5, 6], [7, 8]]])\r\n",
    "print(\"3D Tensor:\\n\", tensor3d)\r\n"
   ]
  },
  {
   "cell_type": "code",
   "execution_count": 29,
   "id": "ec935f36-21e0-4b6f-b70b-64c06113e17e",
   "metadata": {},
   "outputs": [
    {
     "name": "stdout",
     "output_type": "stream",
     "text": [
      "Variable: <tf.Variable 'Variable:0' shape=(3,) dtype=int32, numpy=array([1, 2, 3])>\n",
      "WARNING:tensorflow:From C:\\Users\\anany\\AppData\\Local\\Temp\\ipykernel_9616\\2005629748.py:6: The name tf.global_variables_initializer is deprecated. Please use tf.compat.v1.global_variables_initializer instead.\n",
      "\n"
     ]
    }
   ],
   "source": [
    "# Create a variable\n",
    "var = tf.Variable([1, 2, 3])\n",
    "print(\"Variable:\", var)\n",
    "\n",
    "# Initialize variables\n",
    "init = tf.compat.v1.global_variables_initializer()\n"
   ]
  },
  {
   "cell_type": "code",
   "execution_count": null,
   "id": "39a033c8-15c9-47cb-a734-d496f5845412",
   "metadata": {},
   "outputs": [],
   "source": []
  }
 ],
 "metadata": {
  "kernelspec": {
   "display_name": "Python 3 (ipykernel)",
   "language": "python",
   "name": "python3"
  },
  "language_info": {
   "codemirror_mode": {
    "name": "ipython",
    "version": 3
   },
   "file_extension": ".py",
   "mimetype": "text/x-python",
   "name": "python",
   "nbconvert_exporter": "python",
   "pygments_lexer": "ipython3",
   "version": "3.11.5"
  }
 },
 "nbformat": 4,
 "nbformat_minor": 5
}
