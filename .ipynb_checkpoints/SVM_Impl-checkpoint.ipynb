{
 "cells": [
  {
   "cell_type": "code",
   "execution_count": 3,
   "id": "bd337f32-a9cc-46fa-bdcf-c82dee9632c7",
   "metadata": {},
   "outputs": [],
   "source": [
    "import numpy as np\n",
    "import matplotlib.pyplot as plt\n",
    "from sklearn import datasets\n",
    "from sklearn.model_selection import train_test_split # not needed when we have separate datasets for training and testing\n",
    "from sklearn.preprocessing import StandardScaler # purpose is to do in feature engineering"
   ]
  },
  {
   "cell_type": "code",
   "execution_count": 41,
   "id": "b0e4bcdc-1141-4653-ad0c-15abe9035033",
   "metadata": {},
   "outputs": [],
   "source": [
    "from sklearn.svm import SVC\n",
    "from sklearn.metrics import accuracy_score, classification_report, precision_score,recall_score,f1_score, confusion_matrix"
   ]
  },
  {
   "cell_type": "code",
   "execution_count": 42,
   "id": "251d9d86-0994-40d9-a8bc-1ca6e7040208",
   "metadata": {},
   "outputs": [],
   "source": [
    "wine= datasets.load_wine()"
   ]
  },
  {
   "cell_type": "code",
   "execution_count": 43,
   "id": "dd610394-742c-42da-b92c-2df184a55fcc",
   "metadata": {},
   "outputs": [],
   "source": [
    "X=wine.data"
   ]
  },
  {
   "cell_type": "code",
   "execution_count": 44,
   "id": "fcbd34a8-70e6-4324-a9b7-2483fa3d532a",
   "metadata": {},
   "outputs": [],
   "source": [
    "Y=wine.target"
   ]
  },
  {
   "cell_type": "code",
   "execution_count": 45,
   "id": "ca7a4932-f0fe-4685-8633-1e4e05c3a539",
   "metadata": {},
   "outputs": [
    {
     "data": {
      "text/plain": [
       "array([[1.423e+01, 1.710e+00, 2.430e+00, ..., 1.040e+00, 3.920e+00,\n",
       "        1.065e+03],\n",
       "       [1.320e+01, 1.780e+00, 2.140e+00, ..., 1.050e+00, 3.400e+00,\n",
       "        1.050e+03],\n",
       "       [1.316e+01, 2.360e+00, 2.670e+00, ..., 1.030e+00, 3.170e+00,\n",
       "        1.185e+03],\n",
       "       ...,\n",
       "       [1.327e+01, 4.280e+00, 2.260e+00, ..., 5.900e-01, 1.560e+00,\n",
       "        8.350e+02],\n",
       "       [1.317e+01, 2.590e+00, 2.370e+00, ..., 6.000e-01, 1.620e+00,\n",
       "        8.400e+02],\n",
       "       [1.413e+01, 4.100e+00, 2.740e+00, ..., 6.100e-01, 1.600e+00,\n",
       "        5.600e+02]])"
      ]
     },
     "execution_count": 45,
     "metadata": {},
     "output_type": "execute_result"
    }
   ],
   "source": [
    "X"
   ]
  },
  {
   "cell_type": "code",
   "execution_count": 46,
   "id": "b55f9b97-032f-42cf-965f-a6bc96995805",
   "metadata": {},
   "outputs": [
    {
     "data": {
      "text/plain": [
       "array([0, 0, 0, 0, 0, 0, 0, 0, 0, 0, 0, 0, 0, 0, 0, 0, 0, 0, 0, 0, 0, 0,\n",
       "       0, 0, 0, 0, 0, 0, 0, 0, 0, 0, 0, 0, 0, 0, 0, 0, 0, 0, 0, 0, 0, 0,\n",
       "       0, 0, 0, 0, 0, 0, 0, 0, 0, 0, 0, 0, 0, 0, 0, 1, 1, 1, 1, 1, 1, 1,\n",
       "       1, 1, 1, 1, 1, 1, 1, 1, 1, 1, 1, 1, 1, 1, 1, 1, 1, 1, 1, 1, 1, 1,\n",
       "       1, 1, 1, 1, 1, 1, 1, 1, 1, 1, 1, 1, 1, 1, 1, 1, 1, 1, 1, 1, 1, 1,\n",
       "       1, 1, 1, 1, 1, 1, 1, 1, 1, 1, 1, 1, 1, 1, 1, 1, 1, 1, 1, 1, 2, 2,\n",
       "       2, 2, 2, 2, 2, 2, 2, 2, 2, 2, 2, 2, 2, 2, 2, 2, 2, 2, 2, 2, 2, 2,\n",
       "       2, 2, 2, 2, 2, 2, 2, 2, 2, 2, 2, 2, 2, 2, 2, 2, 2, 2, 2, 2, 2, 2,\n",
       "       2, 2])"
      ]
     },
     "execution_count": 46,
     "metadata": {},
     "output_type": "execute_result"
    }
   ],
   "source": [
    "Y"
   ]
  },
  {
   "cell_type": "code",
   "execution_count": 47,
   "id": "690fd6c6-de5c-4766-88c1-da8c7642dc20",
   "metadata": {},
   "outputs": [
    {
     "data": {
      "text/plain": [
       "sklearn.utils._bunch.Bunch"
      ]
     },
     "execution_count": 47,
     "metadata": {},
     "output_type": "execute_result"
    }
   ],
   "source": [
    "type(wine)"
   ]
  },
  {
   "cell_type": "code",
   "execution_count": 48,
   "id": "2b8b9d15-f1b4-41af-96d7-7d5d6fd9afa1",
   "metadata": {},
   "outputs": [
    {
     "name": "stdout",
     "output_type": "stream",
     "text": [
      "(178, 13)\n",
      "[[1.423e+01 1.710e+00 2.430e+00 1.560e+01 1.270e+02 2.800e+00 3.060e+00\n",
      "  2.800e-01 2.290e+00 5.640e+00 1.040e+00 3.920e+00 1.065e+03]\n",
      " [1.320e+01 1.780e+00 2.140e+00 1.120e+01 1.000e+02 2.650e+00 2.760e+00\n",
      "  2.600e-01 1.280e+00 4.380e+00 1.050e+00 3.400e+00 1.050e+03]\n",
      " [1.316e+01 2.360e+00 2.670e+00 1.860e+01 1.010e+02 2.800e+00 3.240e+00\n",
      "  3.000e-01 2.810e+00 5.680e+00 1.030e+00 3.170e+00 1.185e+03]\n",
      " [1.437e+01 1.950e+00 2.500e+00 1.680e+01 1.130e+02 3.850e+00 3.490e+00\n",
      "  2.400e-01 2.180e+00 7.800e+00 8.600e-01 3.450e+00 1.480e+03]\n",
      " [1.324e+01 2.590e+00 2.870e+00 2.100e+01 1.180e+02 2.800e+00 2.690e+00\n",
      "  3.900e-01 1.820e+00 4.320e+00 1.040e+00 2.930e+00 7.350e+02]]\n"
     ]
    }
   ],
   "source": [
    "col_names=wine.feature_names\n",
    "target_names=wine.target_names\n",
    "df=pd.DataFrame(data=X,columns=col_names)\n",
    "print(wine.data.shape)\n",
    "print(wine.data[:5])"
   ]
  },
  {
   "cell_type": "code",
   "execution_count": 49,
   "id": "e11290c6-90df-4f42-b293-872c4da176d5",
   "metadata": {},
   "outputs": [],
   "source": [
    "scaler=StandardScaler()"
   ]
  },
  {
   "cell_type": "code",
   "execution_count": 50,
   "id": "3029f0e8-54a3-4b46-a195-e3804f4f1050",
   "metadata": {},
   "outputs": [],
   "source": [
    "X_scaled=scaler.fit_transform(X)"
   ]
  },
  {
   "cell_type": "code",
   "execution_count": 51,
   "id": "3916fc9c-fc53-4e19-b14a-c497f7b9879c",
   "metadata": {},
   "outputs": [
    {
     "data": {
      "text/plain": [
       "array([[ 1.51861254, -0.5622498 ,  0.23205254, ...,  0.36217728,\n",
       "         1.84791957,  1.01300893],\n",
       "       [ 0.24628963, -0.49941338, -0.82799632, ...,  0.40605066,\n",
       "         1.1134493 ,  0.96524152],\n",
       "       [ 0.19687903,  0.02123125,  1.10933436, ...,  0.31830389,\n",
       "         0.78858745,  1.39514818],\n",
       "       ...,\n",
       "       [ 0.33275817,  1.74474449, -0.38935541, ..., -1.61212515,\n",
       "        -1.48544548,  0.28057537],\n",
       "       [ 0.20923168,  0.22769377,  0.01273209, ..., -1.56825176,\n",
       "        -1.40069891,  0.29649784],\n",
       "       [ 1.39508604,  1.58316512,  1.36520822, ..., -1.52437837,\n",
       "        -1.42894777, -0.59516041]])"
      ]
     },
     "execution_count": 51,
     "metadata": {},
     "output_type": "execute_result"
    }
   ],
   "source": [
    "X_scaled"
   ]
  },
  {
   "cell_type": "code",
   "execution_count": 52,
   "id": "2fd0c864-1eec-4469-b9c6-3afb7dbf06cf",
   "metadata": {},
   "outputs": [],
   "source": [
    "x_train,x_test,y_train,y_test=train_test_split(X_scaled,Y,test_size=0.2,random_state=42) "
   ]
  },
  {
   "cell_type": "code",
   "execution_count": 60,
   "id": "32c25444-e138-489c-9821-0e8499486eb6",
   "metadata": {},
   "outputs": [],
   "source": [
    "def train_and_evaluate_svm(kernel):\n",
    "    svm_classifier=SVC(kernel=kernel)\n",
    "    svm_classifier.fit(x_train,y_train)\n",
    "\n",
    "    y_pred=svm_classifier.predict(x_test)\n",
    "    \n",
    "    accuracy=accuracy_score(y_test,y_pred)\n",
    "    recall=recall_score(y_test,y_pred,average=\"macro\")\n",
    "    precision=precision_score(y_test,y_pred,average=\"macro\")\n",
    "    f1=f1_score(y_test,y_pred,average=\"macro\")\n",
    "\n",
    "    \n",
    "\n",
    "    print(f\"Kernel: {kernel}\")\n",
    "    print(f\"Accuracy: {accuracy}\")\n",
    "    print(f\"Classification Report:\\n {classification_report(y_test,y_pred)}\")\n",
    "    print(\"-\"*60)\n",
    "    \n",
    "    return accuracy,precision,recall,f1\n",
    "    "
   ]
  },
  {
   "cell_type": "code",
   "execution_count": 61,
   "id": "f8563ef5-cdd2-4fac-8aaa-07e8654cbf3e",
   "metadata": {},
   "outputs": [
    {
     "name": "stdout",
     "output_type": "stream",
     "text": [
      "Kernel: linear\n",
      "Accuracy: 0.9722222222222222\n",
      "Classification Report:\n",
      "               precision    recall  f1-score   support\n",
      "\n",
      "           0       1.00      1.00      1.00        14\n",
      "           1       1.00      0.93      0.96        14\n",
      "           2       0.89      1.00      0.94         8\n",
      "\n",
      "    accuracy                           0.97        36\n",
      "   macro avg       0.96      0.98      0.97        36\n",
      "weighted avg       0.98      0.97      0.97        36\n",
      "\n",
      "------------------------------------------------------------\n",
      "Kernel: poly\n",
      "Accuracy: 0.9722222222222222\n",
      "Classification Report:\n",
      "               precision    recall  f1-score   support\n",
      "\n",
      "           0       1.00      0.93      0.96        14\n",
      "           1       0.93      1.00      0.97        14\n",
      "           2       1.00      1.00      1.00         8\n",
      "\n",
      "    accuracy                           0.97        36\n",
      "   macro avg       0.98      0.98      0.98        36\n",
      "weighted avg       0.97      0.97      0.97        36\n",
      "\n",
      "------------------------------------------------------------\n",
      "Kernel: rbf\n",
      "Accuracy: 1.0\n",
      "Classification Report:\n",
      "               precision    recall  f1-score   support\n",
      "\n",
      "           0       1.00      1.00      1.00        14\n",
      "           1       1.00      1.00      1.00        14\n",
      "           2       1.00      1.00      1.00         8\n",
      "\n",
      "    accuracy                           1.00        36\n",
      "   macro avg       1.00      1.00      1.00        36\n",
      "weighted avg       1.00      1.00      1.00        36\n",
      "\n",
      "------------------------------------------------------------\n"
     ]
    }
   ],
   "source": [
    "kernels=['linear','poly','rbf']\n",
    "results={}\n",
    "\n",
    "for kernel in kernels:\n",
    "    results[kernel]=train_and_evaluate_svm(kernel)\n",
    "# "
   ]
  },
  {
   "cell_type": "code",
   "execution_count": 62,
   "id": "e525e1df-a481-4101-bb8f-495368f7f39a",
   "metadata": {},
   "outputs": [],
   "source": [
    "metrics=['accuracy','precision','recall','f1']\n",
    "scores={metric: [results[kernel][i] for kernel in kernels] for i,metric in enumerate(metrics)}\n"
   ]
  },
  {
   "cell_type": "code",
   "execution_count": 63,
   "id": "508ee4c8-781c-4242-bd89-73b87c982c0f",
   "metadata": {},
   "outputs": [],
   "source": [
    "x=np.arange(len(kernels))\n",
    "width=0.2"
   ]
  },
  {
   "cell_type": "code",
   "execution_count": 74,
   "id": "37c19d7f-7113-4ed0-9c5c-619bbcaf4c5e",
   "metadata": {},
   "outputs": [
    {
     "data": {
      "image/png": "[encoded data removed]",
      "text/plain": [
       "<Figure size 1000x600 with 1 Axes>"
      ]
     },
     "metadata": {},
     "output_type": "display_data"
    }
   ],
   "source": [
    "fig, ax=plt.subplots(figsize=(10,6))\n",
    "bars=ax.bar(x-width,scores['accuracy'],width, label=\"Accuracy\")\n",
    "bars2=ax.bar(x,scores['precision'],width, label=\"Precision\")\n",
    "bars3=ax.bar(x+width,scores['recall'],width, label=\"Recall\")\n",
    "bars4=ax.bar(x+2*width,scores['f1'],width, label=\"F1 Score\")\n",
    "\n",
    "ax.set_xlabel('Kernel')\n",
    "ax.set_ylabel('Scores')\n",
    "ax.set_title(\"Comparision of SVM Kernels\")\n",
    "ax.set_xticks(x)\n",
    "ax.set_xticklabels(kernels)\n",
    "ax.legend()\n",
    "\n",
    "\n",
    "def add_labels(bars):\n",
    "    for bar in bars:\n",
    "        height = bar.get_height()\n",
    "        ax.annotate(f'{height:.2f}',  # Fixed format string to display height value\n",
    "                    xy=(bar.get_x() + bar.get_width() / 2, height),\n",
    "                    xytext=(0, 3),  # 3 points vertical offset\n",
    "                    textcoords=\"offset points\",\n",
    "                    ha=\"center\", va=\"bottom\")  # Corrected 'botton' to 'bottom'\n",
    "\n",
    "add_labels(bars)\n",
    "add_labels(bars2)\n",
    "add_labels(bars3)\n",
    "add_labels(bars4)\n",
    "plt.show()"
   ]
  }
 ],
 "metadata": {
  "kernelspec": {
   "display_name": "Python 3 (ipykernel)",
   "language": "python",
   "name": "python3"
  },
  "language_info": {
   "codemirror_mode": {
    "name": "ipython",
    "version": 3
   },
   "file_extension": ".py",
   "mimetype": "text/x-python",
   "name": "python",
   "nbconvert_exporter": "python",
   "pygments_lexer": "ipython3",
   "version": "3.11.5"
  }
 },
 "nbformat": 4,
 "nbformat_minor": 5
}
