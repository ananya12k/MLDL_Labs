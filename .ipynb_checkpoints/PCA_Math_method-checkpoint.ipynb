{
 "cells": [
  {
   "cell_type": "markdown",
   "id": "2f891f52-9e35-4d08-bdef-78df6c171e31",
   "metadata": {},
   "source": [
    "### **Variance as Information:**\r\n",
    "- **Variance** measures how much data points differ from the average. High variance in a feature suggests that the data is spread out, capturing a lot of variability or information.\r\n",
    "\r\n",
    "### **PCA and Variance:**\r\n",
    "- **PCA** uses the idea that **higher variance = more important information**. It finds the directions (new axes) in your data where the variance is the highest. These directions are the **principal components**.\r\n",
    "\r\n",
    "### **First Principal Component:**\r\n",
    "- The **first principal component** is the direction where the data has the maximum variance. Think of it as the line through the data that captures the most \"spread.\" Since this direction has the most variance, it contains the most information about how your data varies.\r\n",
    "\r\n",
    "### **Subsequent Principal Components:**\r\n",
    "- The **second principal component** is the next direction with the highest variance, but it must be perpendicular to the first. This ensures it captures different information—another way the data varies, but not just a repeat of the first direction.\r\n",
    "\r\n",
    "### **Why Variance Matters in PCA:**\r\n",
    "- By focusing on directions with the highest variance, **PCA** is effectively identifying the most \"informative\" ways the data varies. These directions help to summarize the data with fewer dimensions while retaining as much of the original variance (and therefore information) as possible.\r\n",
    "\r\n",
    "### **Dimensionality Reduction:**\r\n",
    "- After finding these principal components, PCA allows you to drop the ones with the least variance (the least important information). This reduces the complexity of your data but keeps most of its informative content.\r\n",
    "\r\n",
    "### **Summary:**\r\n",
    "- **PCA** is all about finding and keeping the directions (principal components) where your data has the most variance, as these directions are where the most important information lies. The more variance in a principal component, the more it explains about your data's structure.\r\n"
   ]
  },
  {
   "cell_type": "code",
   "execution_count": 4,
   "id": "2f7f818e-6dcb-441e-bf1b-0ce3b882cee9",
   "metadata": {},
   "outputs": [],
   "source": [
    "import numpy as np\n",
    "\n",
    "data = np.array([\n",
    "    [6., 3., 2.],\n",
    "    [3., 2., 7.],\n",
    "    [5., 4., 2.],\n",
    "    [1., 4., 3.],\n",
    "    [7., 3., 1.0],\n",
    "    [5., 1., 8.],\n",
    "    [4., 2., 0.],\n",
    "    [8., 6., 6.],\n",
    "    [6., 3., 2.],\n",
    "    [7., 1., 1.]\n",
    "])\n",
    "\n"
   ]
  },
  {
   "cell_type": "code",
   "execution_count": 7,
   "id": "de24105b-5560-464b-ba43-79bd7f0fd453",
   "metadata": {},
   "outputs": [
    {
     "data": {
      "text/plain": [
       "array([[ 4.4       ,  0.46666667, -0.71111111],\n",
       "       [ 0.46666667,  2.32222222,  0.13333333],\n",
       "       [-0.71111111,  0.13333333,  7.73333333]])"
      ]
     },
     "execution_count": 7,
     "metadata": {},
     "output_type": "execute_result"
    }
   ],
   "source": [
    "data-=data.mean(axis=0)\n",
    "cov=np.cov(data,rowvar=False)\n",
    "cov\n"
   ]
  },
  {
   "cell_type": "code",
   "execution_count": 9,
   "id": "b196c178-e4f8-4574-af15-6dcb8b7afba8",
   "metadata": {},
   "outputs": [
    {
     "ename": "NameError",
     "evalue": "name 'evals' is not defined",
     "output_type": "error",
     "traceback": [
      "\u001b[1;31m---------------------------------------------------------------------------\u001b[0m",
      "\u001b[1;31mNameError\u001b[0m                                 Traceback (most recent call last)",
      "Cell \u001b[1;32mIn[9], line 2\u001b[0m\n\u001b[0;32m      1\u001b[0m num_component \u001b[38;5;241m=\u001b[39m \u001b[38;5;241m2\u001b[39m\n\u001b[1;32m----> 2\u001b[0m sorted_key \u001b[38;5;241m=\u001b[39m np\u001b[38;5;241m.\u001b[39margsort(\u001b[43mevals\u001b[49m)[::\u001b[38;5;241m-\u001b[39m\u001b[38;5;241m1\u001b[39m][:num_component]\n\u001b[0;32m      3\u001b[0m evals, evecs \u001b[38;5;241m=\u001b[39m evals[sorted_key], evecs[:, sorted_key]\n",
      "\u001b[1;31mNameError\u001b[0m: name 'evals' is not defined"
     ]
    }
   ],
   "source": [
    "num_component = 2\n",
    "sorted_key = np.argsort(evals)[::-1][:num_component]\n",
    "evals, evecs = evals[sorted_key], evecs[:, sorted_key]\n"
   ]
  },
  {
   "cell_type": "code",
   "execution_count": null,
   "id": "be69fd1b-db8c-4c08-af16-bf9dae5cab6a",
   "metadata": {},
   "outputs": [],
   "source": []
  }
 ],
 "metadata": {
  "kernelspec": {
   "display_name": "Python 3 (ipykernel)",
   "language": "python",
   "name": "python3"
  },
  "language_info": {
   "codemirror_mode": {
    "name": "ipython",
    "version": 3
   },
   "file_extension": ".py",
   "mimetype": "text/x-python",
   "name": "python",
   "nbconvert_exporter": "python",
   "pygments_lexer": "ipython3",
   "version": "3.11.5"
  }
 },
 "nbformat": 4,
 "nbformat_minor": 5
}
