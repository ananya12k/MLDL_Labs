{
 "cells": [
  {
   "cell_type": "markdown",
   "id": "d37706c0-d283-43b3-80cb-cbcd4284060e",
   "metadata": {},
   "source": [
    "## Regression\n",
    "We will look about linear and logistic regression.\n",
    "\n",
    "Regression has 2 parts:\n",
    "1. Simple\n",
    "2. Multiple\n",
    "\n",
    "It studies relationship between dependent and independent variables.\n",
    "\n",
    "It creates lines best suitable for data, minimum distance for each point."
   ]
  },
  {
   "cell_type": "code",
   "execution_count": 2,
   "id": "5518b828-45d8-4463-9169-d970a5d51c6f",
   "metadata": {},
   "outputs": [],
   "source": [
    "import pandas as pd\n",
    "from sklearn.datasets import load_iris\n",
    "iris=load_iris() \n",
    "x=iris.data\n",
    "col_names=iris.feature_names\n",
    "target_names=iris.target_names\n",
    "df=pd.DataFrame(data=x,columns=col_names)"
   ]
  },
  {
   "cell_type": "code",
   "execution_count": 3,
   "id": "7db4c569-7ff6-4e06-89f2-e69a91f56c71",
   "metadata": {},
   "outputs": [
    {
     "data": {
      "text/html": [
       "<div>\n",
       "<style scoped>\n",
       "    .dataframe tbody tr th:only-of-type {\n",
       "        vertical-align: middle;\n",
       "    }\n",
       "\n",
       "    .dataframe tbody tr th {\n",
       "        vertical-align: top;\n",
       "    }\n",
       "\n",
       "    .dataframe thead th {\n",
       "        text-align: right;\n",
       "    }\n",
       "</style>\n",
       "<table border=\"1\" class=\"dataframe\">\n",
       "  <thead>\n",
       "    <tr style=\"text-align: right;\">\n",
       "      <th></th>\n",
       "      <th>sepal length (cm)</th>\n",
       "      <th>sepal width (cm)</th>\n",
       "      <th>petal length (cm)</th>\n",
       "      <th>petal width (cm)</th>\n",
       "    </tr>\n",
       "  </thead>\n",
       "  <tbody>\n",
       "    <tr>\n",
       "      <th>0</th>\n",
       "      <td>5.1</td>\n",
       "      <td>3.5</td>\n",
       "      <td>1.4</td>\n",
       "      <td>0.2</td>\n",
       "    </tr>\n",
       "    <tr>\n",
       "      <th>1</th>\n",
       "      <td>4.9</td>\n",
       "      <td>3.0</td>\n",
       "      <td>1.4</td>\n",
       "      <td>0.2</td>\n",
       "    </tr>\n",
       "    <tr>\n",
       "      <th>2</th>\n",
       "      <td>4.7</td>\n",
       "      <td>3.2</td>\n",
       "      <td>1.3</td>\n",
       "      <td>0.2</td>\n",
       "    </tr>\n",
       "    <tr>\n",
       "      <th>3</th>\n",
       "      <td>4.6</td>\n",
       "      <td>3.1</td>\n",
       "      <td>1.5</td>\n",
       "      <td>0.2</td>\n",
       "    </tr>\n",
       "    <tr>\n",
       "      <th>4</th>\n",
       "      <td>5.0</td>\n",
       "      <td>3.6</td>\n",
       "      <td>1.4</td>\n",
       "      <td>0.2</td>\n",
       "    </tr>\n",
       "  </tbody>\n",
       "</table>\n",
       "</div>"
      ],
      "text/plain": [
       "   sepal length (cm)  sepal width (cm)  petal length (cm)  petal width (cm)\n",
       "0                5.1               3.5                1.4               0.2\n",
       "1                4.9               3.0                1.4               0.2\n",
       "2                4.7               3.2                1.3               0.2\n",
       "3                4.6               3.1                1.5               0.2\n",
       "4                5.0               3.6                1.4               0.2"
      ]
     },
     "execution_count": 3,
     "metadata": {},
     "output_type": "execute_result"
    }
   ],
   "source": [
    "#EDA\n",
    "\n",
    "df.head()"
   ]
  },
  {
   "cell_type": "code",
   "execution_count": 4,
   "id": "c0a366f0-dbe1-4639-bf1c-59a6d4c1c0cb",
   "metadata": {},
   "outputs": [
    {
     "data": {
      "text/plain": [
       "(150, 4)"
      ]
     },
     "execution_count": 4,
     "metadata": {},
     "output_type": "execute_result"
    }
   ],
   "source": [
    "df.shape"
   ]
  },
  {
   "cell_type": "code",
   "execution_count": 10,
   "id": "d59bb550-baf5-4249-9180-2677f11fce8a",
   "metadata": {},
   "outputs": [
    {
     "data": {
      "text/plain": [
       "<Axes: title={'center': 'Scatter Plot'}, xlabel='petal width (cm)', ylabel='petal length (cm)'>"
      ]
     },
     "execution_count": 10,
     "metadata": {},
     "output_type": "execute_result"
    },
    {
     "data": {
      "image/png": "[encoded data removed]",
      "text/plain": [
       "<Figure size 640x480 with 1 Axes>"
      ]
     },
     "metadata": {},
     "output_type": "display_data"
    }
   ],
   "source": [
    "df.plot.scatter(x='petal width (cm)',y='petal length (cm)',title='Scatter Plot')"
   ]
  },
  {
   "cell_type": "code",
   "execution_count": 6,
   "id": "6f560888-d4fc-4c0d-ad57-afb1da9d1c8f",
   "metadata": {},
   "outputs": [
    {
     "data": {
      "text/html": [
       "<div>\n",
       "<style scoped>\n",
       "    .dataframe tbody tr th:only-of-type {\n",
       "        vertical-align: middle;\n",
       "    }\n",
       "\n",
       "    .dataframe tbody tr th {\n",
       "        vertical-align: top;\n",
       "    }\n",
       "\n",
       "    .dataframe thead th {\n",
       "        text-align: right;\n",
       "    }\n",
       "</style>\n",
       "<table border=\"1\" class=\"dataframe\">\n",
       "  <thead>\n",
       "    <tr style=\"text-align: right;\">\n",
       "      <th></th>\n",
       "      <th>sepal length (cm)</th>\n",
       "      <th>sepal width (cm)</th>\n",
       "      <th>petal length (cm)</th>\n",
       "      <th>petal width (cm)</th>\n",
       "    </tr>\n",
       "  </thead>\n",
       "  <tbody>\n",
       "    <tr>\n",
       "      <th>sepal length (cm)</th>\n",
       "      <td>1.000000</td>\n",
       "      <td>-0.117570</td>\n",
       "      <td>0.871754</td>\n",
       "      <td>0.817941</td>\n",
       "    </tr>\n",
       "    <tr>\n",
       "      <th>sepal width (cm)</th>\n",
       "      <td>-0.117570</td>\n",
       "      <td>1.000000</td>\n",
       "      <td>-0.428440</td>\n",
       "      <td>-0.366126</td>\n",
       "    </tr>\n",
       "    <tr>\n",
       "      <th>petal length (cm)</th>\n",
       "      <td>0.871754</td>\n",
       "      <td>-0.428440</td>\n",
       "      <td>1.000000</td>\n",
       "      <td>0.962865</td>\n",
       "    </tr>\n",
       "    <tr>\n",
       "      <th>petal width (cm)</th>\n",
       "      <td>0.817941</td>\n",
       "      <td>-0.366126</td>\n",
       "      <td>0.962865</td>\n",
       "      <td>1.000000</td>\n",
       "    </tr>\n",
       "  </tbody>\n",
       "</table>\n",
       "</div>"
      ],
      "text/plain": [
       "                   sepal length (cm)  sepal width (cm)  petal length (cm)  petal width (cm)\n",
       "sepal length (cm)           1.000000         -0.117570           0.871754          0.817941\n",
       "sepal width (cm)           -0.117570          1.000000          -0.428440         -0.366126\n",
       "petal length (cm)           0.871754         -0.428440           1.000000          0.962865\n",
       "petal width (cm)            0.817941         -0.366126           0.962865          1.000000"
      ]
     },
     "execution_count": 6,
     "metadata": {},
     "output_type": "execute_result"
    }
   ],
   "source": [
    "df.corr()"
   ]
  },
  {
   "cell_type": "code",
   "execution_count": 7,
   "id": "c3a55ce8-8d82-432f-9c22-5f95529c0f7a",
   "metadata": {},
   "outputs": [
    {
     "data": {
      "text/html": [
       "<div>\n",
       "<style scoped>\n",
       "    .dataframe tbody tr th:only-of-type {\n",
       "        vertical-align: middle;\n",
       "    }\n",
       "\n",
       "    .dataframe tbody tr th {\n",
       "        vertical-align: top;\n",
       "    }\n",
       "\n",
       "    .dataframe thead th {\n",
       "        text-align: right;\n",
       "    }\n",
       "</style>\n",
       "<table border=\"1\" class=\"dataframe\">\n",
       "  <thead>\n",
       "    <tr style=\"text-align: right;\">\n",
       "      <th></th>\n",
       "      <th>sepal length (cm)</th>\n",
       "      <th>sepal width (cm)</th>\n",
       "      <th>petal length (cm)</th>\n",
       "      <th>petal width (cm)</th>\n",
       "    </tr>\n",
       "  </thead>\n",
       "  <tbody>\n",
       "    <tr>\n",
       "      <th>count</th>\n",
       "      <td>150.000000</td>\n",
       "      <td>150.000000</td>\n",
       "      <td>150.000000</td>\n",
       "      <td>150.000000</td>\n",
       "    </tr>\n",
       "    <tr>\n",
       "      <th>mean</th>\n",
       "      <td>5.843333</td>\n",
       "      <td>3.057333</td>\n",
       "      <td>3.758000</td>\n",
       "      <td>1.199333</td>\n",
       "    </tr>\n",
       "    <tr>\n",
       "      <th>std</th>\n",
       "      <td>0.828066</td>\n",
       "      <td>0.435866</td>\n",
       "      <td>1.765298</td>\n",
       "      <td>0.762238</td>\n",
       "    </tr>\n",
       "    <tr>\n",
       "      <th>min</th>\n",
       "      <td>4.300000</td>\n",
       "      <td>2.000000</td>\n",
       "      <td>1.000000</td>\n",
       "      <td>0.100000</td>\n",
       "    </tr>\n",
       "    <tr>\n",
       "      <th>25%</th>\n",
       "      <td>5.100000</td>\n",
       "      <td>2.800000</td>\n",
       "      <td>1.600000</td>\n",
       "      <td>0.300000</td>\n",
       "    </tr>\n",
       "    <tr>\n",
       "      <th>50%</th>\n",
       "      <td>5.800000</td>\n",
       "      <td>3.000000</td>\n",
       "      <td>4.350000</td>\n",
       "      <td>1.300000</td>\n",
       "    </tr>\n",
       "    <tr>\n",
       "      <th>75%</th>\n",
       "      <td>6.400000</td>\n",
       "      <td>3.300000</td>\n",
       "      <td>5.100000</td>\n",
       "      <td>1.800000</td>\n",
       "    </tr>\n",
       "    <tr>\n",
       "      <th>max</th>\n",
       "      <td>7.900000</td>\n",
       "      <td>4.400000</td>\n",
       "      <td>6.900000</td>\n",
       "      <td>2.500000</td>\n",
       "    </tr>\n",
       "  </tbody>\n",
       "</table>\n",
       "</div>"
      ],
      "text/plain": [
       "       sepal length (cm)  sepal width (cm)  petal length (cm)  petal width (cm)\n",
       "count         150.000000        150.000000         150.000000        150.000000\n",
       "mean            5.843333          3.057333           3.758000          1.199333\n",
       "std             0.828066          0.435866           1.765298          0.762238\n",
       "min             4.300000          2.000000           1.000000          0.100000\n",
       "25%             5.100000          2.800000           1.600000          0.300000\n",
       "50%             5.800000          3.000000           4.350000          1.300000\n",
       "75%             6.400000          3.300000           5.100000          1.800000\n",
       "max             7.900000          4.400000           6.900000          2.500000"
      ]
     },
     "execution_count": 7,
     "metadata": {},
     "output_type": "execute_result"
    }
   ],
   "source": [
    "df.describe()"
   ]
  },
  {
   "cell_type": "code",
   "execution_count": 11,
   "id": "e56df560-2675-40a2-b201-da06c22baae3",
   "metadata": {},
   "outputs": [],
   "source": [
    "# Pre processing\n",
    "y=df['petal width (cm)'].values.reshape(-1,1)\n",
    "x=df['petal length (cm)'].values.reshape(-1,1)"
   ]
  },
  {
   "cell_type": "code",
   "execution_count": 12,
   "id": "76c343e2-ad21-4d0c-aeb1-3aaf5f226c30",
   "metadata": {},
   "outputs": [
    {
     "name": "stdout",
     "output_type": "stream",
     "text": [
      "[[3.5]\n",
      " [1.4]\n",
      " [4.2]\n",
      " [4.5]\n",
      " [4.9]\n",
      " [4.1]\n",
      " [1.4]\n",
      " [5.3]\n",
      " [1.4]\n",
      " [5.1]\n",
      " [5.9]\n",
      " [1.5]\n",
      " [1.5]\n",
      " [4.3]\n",
      " [1.4]\n",
      " [4. ]\n",
      " [1.7]\n",
      " [1.6]\n",
      " [1.5]\n",
      " [4.5]\n",
      " [1.5]\n",
      " [4.8]\n",
      " [4.5]\n",
      " [1.5]\n",
      " [5.6]\n",
      " [1.2]\n",
      " [6.4]\n",
      " [6.1]\n",
      " [5.9]\n",
      " [5.1]\n",
      " [1.7]\n",
      " [5.2]\n",
      " [1.5]\n",
      " [3.5]\n",
      " [6.1]\n",
      " [5.7]\n",
      " [3.6]\n",
      " [4. ]\n",
      " [4.5]\n",
      " [6. ]\n",
      " [5.1]\n",
      " [5.7]\n",
      " [4.9]\n",
      " [5.6]\n",
      " [1.3]\n",
      " [4.6]\n",
      " [5. ]\n",
      " [1.5]\n",
      " [5.1]\n",
      " [4.5]\n",
      " [1.4]\n",
      " [5.1]\n",
      " [3.9]\n",
      " [1.5]\n",
      " [5.3]\n",
      " [5.6]\n",
      " [4.4]\n",
      " [4.9]\n",
      " [4.1]\n",
      " [1.6]\n",
      " [1.5]\n",
      " [4.9]\n",
      " [5.5]\n",
      " [1.9]\n",
      " [5.6]\n",
      " [3.7]\n",
      " [5.4]\n",
      " [5.8]\n",
      " [1.6]\n",
      " [4.6]\n",
      " [6.7]\n",
      " [1.7]\n",
      " [1.5]\n",
      " [5.5]\n",
      " [1. ]\n",
      " [4.2]\n",
      " [1.5]\n",
      " [4.4]\n",
      " [1.3]\n",
      " [1.2]\n",
      " [1.4]\n",
      " [4.2]\n",
      " [4.7]\n",
      " [5.8]\n",
      " [1.6]\n",
      " [5. ]\n",
      " [1.4]\n",
      " [4.8]\n",
      " [1.4]\n",
      " [3.3]\n",
      " [4.4]\n",
      " [4.7]\n",
      " [5.6]\n",
      " [5.5]\n",
      " [4. ]\n",
      " [5.8]\n",
      " [4.5]\n",
      " [5.7]\n",
      " [4.9]\n",
      " [1.5]\n",
      " [4.7]\n",
      " [4.4]\n",
      " [5.1]\n",
      " [1.4]\n",
      " [4.1]\n",
      " [3.8]\n",
      " [1.7]\n",
      " [4. ]\n",
      " [5.1]\n",
      " [4.8]\n",
      " [6.9]\n",
      " [6.7]\n",
      " [1.6]\n",
      " [1.3]\n",
      " [4.5]\n",
      " [1.4]\n",
      " [5.1]\n",
      " [6.6]\n",
      " [6. ]\n",
      " [3.9]]\n",
      "[[1. ]\n",
      " [0.2]\n",
      " [1.2]\n",
      " [1.6]\n",
      " [1.8]\n",
      " [1.3]\n",
      " [0.2]\n",
      " [2.3]\n",
      " [0.2]\n",
      " [1.9]\n",
      " [2.3]\n",
      " [0.4]\n",
      " [0.4]\n",
      " [1.3]\n",
      " [0.1]\n",
      " [1.3]\n",
      " [0.2]\n",
      " [0.2]\n",
      " [0.2]\n",
      " [1.5]\n",
      " [0.1]\n",
      " [1.4]\n",
      " [1.7]\n",
      " [0.2]\n",
      " [1.4]\n",
      " [0.2]\n",
      " [2. ]\n",
      " [1.9]\n",
      " [2.1]\n",
      " [2. ]\n",
      " [0.4]\n",
      " [2. ]\n",
      " [0.2]\n",
      " [1. ]\n",
      " [2.3]\n",
      " [2.1]\n",
      " [1.3]\n",
      " [1.2]\n",
      " [1.5]\n",
      " [1.8]\n",
      " [1.8]\n",
      " [2.5]\n",
      " [2. ]\n",
      " [2.4]\n",
      " [0.2]\n",
      " [1.4]\n",
      " [1.5]\n",
      " [0.2]\n",
      " [1.6]\n",
      " [1.5]\n",
      " [0.3]\n",
      " [2.3]\n",
      " [1.2]\n",
      " [0.1]\n",
      " [1.9]\n",
      " [1.8]\n",
      " [1.2]\n",
      " [1.5]\n",
      " [1. ]\n",
      " [0.4]\n",
      " [0.2]\n",
      " [1.5]\n",
      " [2.1]\n",
      " [0.4]\n",
      " [2.2]\n",
      " [1. ]\n",
      " [2.1]\n",
      " [2.2]\n",
      " [0.2]\n",
      " [1.5]\n",
      " [2.2]\n",
      " [0.5]\n",
      " [0.2]\n",
      " [1.8]\n",
      " [0.2]\n",
      " [1.3]\n",
      " [0.2]\n",
      " [1.4]\n",
      " [0.2]\n",
      " [0.2]\n",
      " [0.1]\n",
      " [1.3]\n",
      " [1.5]\n",
      " [1.6]\n",
      " [0.6]\n",
      " [1.7]\n",
      " [0.2]\n",
      " [1.8]\n",
      " [0.2]\n",
      " [1. ]\n",
      " [1.3]\n",
      " [1.4]\n",
      " [2.4]\n",
      " [1.8]\n",
      " [1.3]\n",
      " [1.8]\n",
      " [1.3]\n",
      " [2.3]\n",
      " [1.8]\n",
      " [0.4]\n",
      " [1.4]\n",
      " [1.4]\n",
      " [2.4]\n",
      " [0.2]\n",
      " [1.3]\n",
      " [1.1]\n",
      " [0.3]\n",
      " [1. ]\n",
      " [1.9]\n",
      " [1.8]\n",
      " [2.3]\n",
      " [2. ]\n",
      " [0.2]\n",
      " [0.2]\n",
      " [1.5]\n",
      " [0.3]\n",
      " [1.5]\n",
      " [2.1]\n",
      " [2.5]\n",
      " [1.1]]\n"
     ]
    }
   ],
   "source": [
    "# Split data set to training and Test \n",
    "from sklearn.model_selection import train_test_split\n",
    "x_train,x_test,y_train,y_test=train_test_split(x,y,test_size=0.2) # 80% for taring and 20% for testing\n",
    "print(x_train)\n",
    "print(y_train)"
   ]
  },
  {
   "cell_type": "code",
   "execution_count": 13,
   "id": "ac491776-d84f-463e-a173-c38a9e0a7a3a",
   "metadata": {},
   "outputs": [
    {
     "name": "stdout",
     "output_type": "stream",
     "text": [
      "[-0.36845244]\n",
      "[[0.4141002]]\n"
     ]
    }
   ],
   "source": [
    "# Train model\n",
    "from sklearn.linear_model import LinearRegression\n",
    "\n",
    "regressor=LinearRegression()\n",
    "\n",
    "regressor.fit(x_train,y_train)\n",
    "print(regressor.intercept_)\n",
    "print(regressor.coef_)"
   ]
  },
  {
   "cell_type": "code",
   "execution_count": 14,
   "id": "0e93b126-e0e9-4861-a0de-cbf90fd6c3e3",
   "metadata": {},
   "outputs": [
    {
     "name": "stdout",
     "output_type": "stream",
     "text": [
      "[[2.73729907]]\n"
     ]
    }
   ],
   "source": [
    "#Predictions\n",
    "score=regressor.predict([[7.5]])\n",
    "print(score)"
   ]
  },
  {
   "cell_type": "code",
   "execution_count": 17,
   "id": "81658453-75c9-4136-835e-221f55f21021",
   "metadata": {},
   "outputs": [],
   "source": [
    "# Writing equation\n",
    "def calc(slope,intercept,value):\n",
    "    return intercept+slope*value"
   ]
  },
  {
   "cell_type": "code",
   "execution_count": 18,
   "id": "4ddf780a-e1ae-416b-bd72-f1ab9db97fe2",
   "metadata": {},
   "outputs": [],
   "source": [
    "score=calc(regressor.coef_,regressor.intercept_,7.5)"
   ]
  },
  {
   "cell_type": "code",
   "execution_count": 19,
   "id": "c823b1e5-2640-4925-a43a-8935eae74d41",
   "metadata": {},
   "outputs": [
    {
     "data": {
      "text/plain": [
       "array([[2.73729907]])"
      ]
     },
     "execution_count": 19,
     "metadata": {},
     "output_type": "execute_result"
    }
   ],
   "source": [
    "score"
   ]
  },
  {
   "cell_type": "code",
   "execution_count": 23,
   "id": "a8782730-1048-4de8-b4d4-8cac1ba4fc2e",
   "metadata": {},
   "outputs": [
    {
     "name": "stdout",
     "output_type": "stream",
     "text": [
      "    Actual  Predicted\n",
      "0      2.3   1.784869\n",
      "1      1.8   2.240379\n",
      "2      1.5   1.370768\n",
      "3      0.1   0.087058\n",
      "4      1.6   1.577819\n",
      "5      1.3   1.412178\n",
      "6      2.3   1.867689\n",
      "7      0.2   0.294108\n",
      "8      1.8   1.619229\n",
      "9      2.0   1.702049\n",
      "10     0.3   0.169878\n",
      "11     0.3   0.252698\n",
      "12     0.2   0.418338\n",
      "13     1.2   1.577819\n",
      "14     0.2   0.211288\n",
      "15     0.4   0.169878\n",
      "16     1.9   1.702049\n",
      "17     0.3   0.211288\n",
      "18     0.2   0.211288\n",
      "19     1.4   1.246538\n",
      "20     1.5   1.494998\n",
      "21     0.2   0.294108\n",
      "22     1.1   0.873848\n",
      "23     2.1   1.950509\n",
      "24     1.3   1.287948\n",
      "25     0.3   0.169878\n",
      "26     1.0   0.998078\n",
      "27     2.5   2.157559\n",
      "28     0.2   0.169878\n",
      "29     1.3   1.536408\n"
     ]
    }
   ],
   "source": [
    "# Testing\n",
    "# Storing predictions in var, since we have data already\n",
    "y_pred = regressor.predict(x_test)\n",
    "df_pref = pd.DataFrame({'Actual': y_test.squeeze(), 'Predicted': y_pred.squeeze()})\n",
    "print(df_pref)"
   ]
  },
  {
   "cell_type": "code",
   "execution_count": 26,
   "id": "fde27fc4-7b0b-4210-ad96-e4295f94f149",
   "metadata": {},
   "outputs": [
    {
     "name": "stdout",
     "output_type": "stream",
     "text": [
      "0.16438033400206045\n",
      "0.047112043595122076\n",
      "0.21705308934710438\n"
     ]
    }
   ],
   "source": [
    "# Evaluting Model\n",
    "from sklearn.metrics import mean_absolute_error,mean_squared_error\n",
    "import numpy as np\n",
    "mae=mean_absolute_error(y_test,y_pred)\n",
    "mas=mean_squared_error(y_test,y_pred)\n",
    "rmse=np.sqrt(mas)\n",
    "print(mae)\n",
    "print(mas)\n",
    "print(rmse) "
   ]
  },
  {
   "cell_type": "code",
   "execution_count": 27,
   "id": "32e3b444-7865-488b-8ff0-9d6e42d15d68",
   "metadata": {},
   "outputs": [],
   "source": [
    "#MODEL IS WORKING FINE SINCE ERROR IS LESS"
   ]
  }
 ],
 "metadata": {
  "kernelspec": {
   "display_name": "Python 3 (ipykernel)",
   "language": "python",
   "name": "python3"
  },
  "language_info": {
   "codemirror_mode": {
    "name": "ipython",
    "version": 3
   },
   "file_extension": ".py",
   "mimetype": "text/x-python",
   "name": "python",
   "nbconvert_exporter": "python",
   "pygments_lexer": "ipython3",
   "version": "3.11.5"
  }
 },
 "nbformat": 4,
 "nbformat_minor": 5
}
