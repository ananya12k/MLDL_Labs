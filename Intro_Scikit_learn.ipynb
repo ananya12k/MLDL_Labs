{
 "cells": [
  {
   "cell_type": "markdown",
   "id": "65b19cbe-4e4c-4c78-add3-8d23effccad2",
   "metadata": {},
   "source": [
    "# Introduction\n",
    "It is a ML library in Python. It is a useful and robust library. It is built upon NumPy, SciPy, Matplotlib.\n",
    "\n",
    "It is mainly used for:\n",
    "1. Classification, Regression, Clustering\n",
    "2. Preposcessing, Dimensionalty reduction\n",
    "3. Outlier detection\n",
    "4. Ensemble Methods\n",
    "5. Evaluation\n",
    "\n",
    "Focuses on data modelling.\n"
   ]
  },
  {
   "cell_type": "code",
   "execution_count": 7,
   "id": "25c4406c-d788-43e1-9652-bb7c49586b7a",
   "metadata": {},
   "outputs": [
    {
     "data": {
      "text/plain": [
       "'\\nLoading the default iris flower dataset from library, check its properties, \\nit has attributes as well as target names which can be used in classification\\n'"
      ]
     },
     "execution_count": 7,
     "metadata": {},
     "output_type": "execute_result"
    }
   ],
   "source": [
    "from sklearn.datasets import load_iris\n",
    "iris=load_iris() \n",
    "\n",
    "\"\"\"\n",
    "Loading the default iris flower dataset from library, check its properties, \n",
    "it has attributes as well as target names which can be used in classification\n",
    "\"\"\""
   ]
  },
  {
   "cell_type": "code",
   "execution_count": 3,
   "id": "2c0db0e9-41d1-4d9a-9213-a4fa1c3939aa",
   "metadata": {},
   "outputs": [],
   "source": [
    "x=iris.data"
   ]
  },
  {
   "cell_type": "code",
   "execution_count": 4,
   "id": "cf986c05-131a-4403-ae91-eeed3b84d2a5",
   "metadata": {},
   "outputs": [],
   "source": [
    "col_names=iris.feature_names\n",
    "target_names=iris.target_names"
   ]
  },
  {
   "cell_type": "code",
   "execution_count": 9,
   "id": "e5b05be5-bb08-4575-962c-18f106e83bfc",
   "metadata": {},
   "outputs": [
    {
     "name": "stdout",
     "output_type": "stream",
     "text": [
      "['sepal length (cm)', 'sepal width (cm)', 'petal length (cm)', 'petal width (cm)']\n",
      "['setosa' 'versicolor' 'virginica']\n",
      "[[4.7 3.2 1.3 0.2]\n",
      " [4.6 3.1 1.5 0.2]\n",
      " [5.  3.6 1.4 0.2]\n",
      " [5.4 3.9 1.7 0.4]\n",
      " [4.6 3.4 1.4 0.3]\n",
      " [5.  3.4 1.5 0.2]\n",
      " [4.4 2.9 1.4 0.2]\n",
      " [4.9 3.1 1.5 0.1]]\n"
     ]
    }
   ],
   "source": [
    "print(col_names)\n",
    "print(target_names)\n",
    "print(x[2:10])"
   ]
  }
 ],
 "metadata": {
  "kernelspec": {
   "display_name": "Python 3 (ipykernel)",
   "language": "python",
   "name": "python3"
  },
  "language_info": {
   "codemirror_mode": {
    "name": "ipython",
    "version": 3
   },
   "file_extension": ".py",
   "mimetype": "text/x-python",
   "name": "python",
   "nbconvert_exporter": "python",
   "pygments_lexer": "ipython3",
   "version": "3.11.5"
  }
 },
 "nbformat": 4,
 "nbformat_minor": 5
}
